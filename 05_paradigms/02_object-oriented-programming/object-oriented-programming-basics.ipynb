{
 "cells": [
  {
   "cell_type": "markdown",
   "metadata": {},
   "source": [
    "# Object Oriented Programming Basics"
   ]
  },
  {
   "cell_type": "code",
   "execution_count": null,
   "metadata": {},
   "outputs": [],
   "source": [
    "# Classes and Objects\n",
    "# Classes are simple (or more complex) recipes that are used to create two main things:\n",
    "# a. provide a data container (has variables and constants inside it)\n",
    "# b. provide operations on data (functions and methods)\n",
    "# We can use Classes to create instances of objects which can hold the specific data we can operate on."
   ]
  },
  {
   "cell_type": "code",
   "execution_count": null,
   "metadata": {},
   "outputs": [],
   "source": [
    "class Sample():\n",
    "    # self represents the instance of the object itself\n",
    "    # __init__ is a special method used to initialize the object - it is known as a constructor in other OOP languages\n",
    "    def __init__(self):\n",
    "        print(\"Sample created\")\n",
    "\n",
    "my_sample = Sample()\n",
    "type(my_sample)"
   ]
  },
  {
   "cell_type": "code",
   "execution_count": null,
   "metadata": {},
   "outputs": [],
   "source": [
    "class Dog():\n",
    "    # class object attribute\n",
    "    species = 'mammal'\n",
    "\n",
    "    def __init__(self, breed, name, spots):\n",
    "        self.breed = breed\n",
    "        self.name = name\n",
    "        self.spots = spots\n",
    "    \n",
    "    # Operations/Actions ---> Methods\n",
    "    def bark(self, number):\n",
    "        print(\"WOOF! My name is {} and the number is {}\".format(self.name, number))\n",
    "\n",
    "    def show(self):\n",
    "        print(\"My species is {}\".format(self.species))\n",
    "        print(\"My breed is {}\".format(self.breed))\n",
    "        print(\"My name is {}\".format(self.name))\n",
    "        print(\"I have spots: {}\".format(self.spots))\n",
    "        \n",
    "my_dog = Dog(breed='Lab', name='Sammy', spots=False)\n",
    "type(my_dog)\n",
    "my_dog.show()\n",
    "my_dog.bark(10)"
   ]
  },
  {
   "cell_type": "code",
   "execution_count": null,
   "metadata": {},
   "outputs": [],
   "source": [
    "class Circle():\n",
    "    # class object attribute\n",
    "    pi = 3.14\n",
    "\n",
    "    def __init__(self, radius=1):\n",
    "        self.radius = radius\n",
    "        self.area = radius * radius * self.pi\n",
    "\n",
    "    def get_circumference(self):\n",
    "        return self.radius * self.pi * 2\n",
    "    \n",
    "my_circle = Circle(30)\n",
    "print(my_circle.radius)\n",
    "print(my_circle.area)\n",
    "print(my_circle.get_circumference())"
   ]
  },
  {
   "cell_type": "markdown",
   "metadata": {},
   "source": [
    "# Encapsulation\n",
    "Encapsulation is the bundling of data with the methods that operate on that data. It restricts direct access to some of an object's components, which can prevent the accidental modification of data. This is a fundamental principle of object-oriented programming (OOP).\n",
    "\n",
    "In general, a well designed class already achieves encapsulation in the sense that it gathers all the relevant data and functionality. It helps us with controlling complexity as well.\n",
    "\n",
    "Have these points in mind:\n",
    "- Create classes for all the objects you need in your code\n",
    "- Create collections of related objects so that they can be treated as units\n",
    "\n",
    "- bundling the data (attributes) and the methods (functions) that operate on the data into a single unit (class)\n",
    "- hiding the data from the outside world\n",
    "- only exposing a public interface"
   ]
  },
  {
   "cell_type": "code",
   "execution_count": null,
   "metadata": {},
   "outputs": [],
   "source": [
    "class Author:\n",
    "    def __init__(self, name, birth_year):\n",
    "        self.name = name\n",
    "        self.birth_year = birth_year\n",
    "        \n",
    "    def get_author_info(self):\n",
    "        return f\"Author: {self.name}, Born: {self.birth_year}\"\n",
    "    \n",
    "class Book:\n",
    "    def __init__(self, title, author: Author, publication_year):\n",
    "        self.title = title\n",
    "        self.author = author  # This is an instance of Author class\n",
    "        self.publication_year = publication_year\n",
    "        \n",
    "    def get_book_info(self):\n",
    "        return f\"'{self.title}' by {self.author.get_author_info()}, Published: {self.publication_year}\"\n",
    "    \n",
    "# create an Author object\n",
    "author_obj = Author(\"George Orwell\", 1903)\n",
    "# create a Book object with the Author object\n",
    "book_obj = Book(\"1984\", author_obj, 1949)\n",
    "# print book information\n",
    "print(book_obj.get_book_info())"
   ]
  },
  {
   "cell_type": "code",
   "execution_count": null,
   "metadata": {},
   "outputs": [],
   "source": [
    "# Encapsulation\n",
    "class Computer:\n",
    "    def __init__(self):\n",
    "        # double underscore makes the attribute private - it cannot be accessed from outside the class\n",
    "        self.__maxprice = 900\n",
    "\n",
    "    def sell(self):\n",
    "        print(\"Selling Price: {}\".format(self.__maxprice))\n",
    "\n",
    "    def set_max_price(self, price):\n",
    "        self.__maxprice = price\n",
    "        \n",
    "    def get_max_price(self):\n",
    "        return self.__maxprice\n",
    "        \n",
    "c = Computer()\n",
    "c.sell()\n",
    "\n",
    "# change the price\n",
    "c.__maxprice = 1000\n",
    "c.sell()\n",
    "\n",
    "c.set_max_price(1000)\n",
    "c.sell()\n",
    "\n",
    "c.get_max_price()"
   ]
  },
  {
   "cell_type": "markdown",
   "metadata": {},
   "source": [
    "## Inheritance\n",
    "- using existing classes to create new classes\n",
    "- reusing code\n",
    "\n",
    "Allows us to generalize.\n",
    "Can think of it as a tree which grows more complex as we keep extending its branches.\n",
    "- we start with some property or behavior that is present in different instances of types of entities\n",
    "- we then create a new and more specialized version of the 'parent' by inheriting either data/or behavior in the 'children'"
   ]
  },
  {
   "cell_type": "code",
   "execution_count": null,
   "metadata": {},
   "outputs": [],
   "source": [
    "class Animal:\n",
    "    def __init__(self, name):\n",
    "        self.name = name\n",
    "        print(\"Animal created\")\n",
    "\n",
    "    def who_am_i(self):\n",
    "        print(\"I am an animal\")\n",
    "\n",
    "    def eat(self):\n",
    "        print(\"I am eating\")\n",
    "\n",
    "\n",
    "# Dog inherits from Animal the methods who_am_i and eat\n",
    "class Dog(Animal):\n",
    "    def __init__(self, name):\n",
    "        Animal.__init__(self, name)\n",
    "        self.name = name\n",
    "        print(\"Dog created\")\n",
    "\n",
    "    # overwrite the who_am_i method\n",
    "    def who_am_i(self):\n",
    "        print(\"I am a dog\")\n",
    "        \n",
    "    def bark(self):\n",
    "        print(\"WOOF!\")\n",
    "        \n",
    "    def speak(self):\n",
    "        return self.name + \" says woof!\"\n",
    "\n",
    "\n",
    "my_dog = Dog('my first dog')\n",
    "my_dog.who_am_i()\n",
    "my_dog.eat()"
   ]
  },
  {
   "cell_type": "code",
   "execution_count": null,
   "metadata": {},
   "outputs": [],
   "source": [
    "class Car:\n",
    "    def __init__(self, windows, doors, engine):\n",
    "        self.windows = windows\n",
    "        self.doors = doors\n",
    "        self.engine = engine\n",
    "        \n",
    "    def drive(self):\n",
    "        print(f\"the person will drive the car with {self.windows} windows, {self.doors} doors and {self.engine} engine\")\n",
    "        \n",
    "car_one = Car(4, 4, 'V8')\n",
    "car_one.drive()\n",
    "        \n",
    "class Tesla(Car):\n",
    "    def __init__(self, windows, doors, engine, auto_pilot):\n",
    "        # inherit from the parent class\n",
    "        super().__init__(windows, doors, engine)\n",
    "        self.auto_pilot = auto_pilot\n",
    "    \n",
    "    def self_drive(self):\n",
    "        print(\"Tesla supports self driving\")\n",
    "        \n",
    "car_two = Tesla(4, 4, 'V8', True)\n",
    "car_two.drive()\n",
    "car_two.self_drive()"
   ]
  },
  {
   "cell_type": "markdown",
   "metadata": {},
   "source": [
    "# Polymorphism\n",
    "- the ability to use a common interface for multiple forms (data types)"
   ]
  },
  {
   "cell_type": "code",
   "execution_count": null,
   "metadata": {},
   "outputs": [],
   "source": [
    "\n",
    "class Cat(Animal):\n",
    "    def __init__(self, name):\n",
    "        Animal.__init__(self, name)\n",
    "        self.name = name\n",
    "        print(\"Cat created\")\n",
    "\n",
    "    def who_am_i(self):\n",
    "        print(\"I am a cat\")\n",
    "\n",
    "    def meow(self):\n",
    "        print(\"MEOW!\")\n",
    "    \n",
    "    def speak(self):\n",
    "        return self.name + \" says meow!\"\n",
    "        \n",
    "niko = Dog('niko')\n",
    "felix = Cat('felix')\n",
    "\n",
    "print(niko.speak())\n",
    "print(felix.speak())\n",
    "\n",
    "for pet_class in [niko, felix]:\n",
    "    print(type(pet_class))\n",
    "    print(pet_class.speak())\n",
    "    \n",
    "def pet_speak(pet):\n",
    "    print(pet.speak())\n",
    "    \n",
    "pet_speak(niko)\n",
    "pet_speak(felix)"
   ]
  },
  {
   "cell_type": "markdown",
   "metadata": {},
   "source": [
    "# Using abstract classes"
   ]
  },
  {
   "cell_type": "markdown",
   "metadata": {},
   "source": [
    "# Abstraction - Inheritance: Interfaces\n",
    "- hiding the complex implementation details and only showing the necessary features of an object\n",
    "- using abstract classes and interfaces\n",
    "\n",
    "- a contract is like a promise that you will provide some specific behavior - in classes this means that you promise to provide some functionality\n",
    "- one way to create a contract is through a concept of Interface\n",
    "  - NOTE: in Python there is no formal concept of interface, but we can use abstract classes to achieve the same effect\n"
   ]
  },
  {
   "cell_type": "code",
   "execution_count": null,
   "metadata": {},
   "outputs": [],
   "source": [
    "from abc import ABC, abstractmethod\n",
    "# Interface Contract - children will have to implement all of the abstract methods - in an interface methods have no implementations so we use 'pass'\n",
    "class MyInterface(ABC):\n",
    "    @abstractmethod\n",
    "    def my_method(self):\n",
    "        pass\n",
    "    \n",
    "class MyClass(MyInterface):\n",
    "    # because we inherit from MyInterface, we must implement the my_method\n",
    "    def my_method(self):\n",
    "        print(\"Implementation of my_method in MyClass\")\n",
    "        \n",
    "class MyOtherClass(MyInterface):\n",
    "    # also must implement the my_method\n",
    "    def my_method(self):\n",
    "        print(\"Implementation of my_method in MyOtherClass\")\n",
    "        \n",
    "my_class_instance = MyClass()\n",
    "my_class_instance.my_method()\n",
    "my_other_class_instance = MyOtherClass()\n",
    "my_other_class_instance.my_method()"
   ]
  },
  {
   "cell_type": "markdown",
   "metadata": {},
   "source": [
    "# Abstract Classes\n",
    "- in between a class and an interface\n",
    "- can have both abstract methods (methods without implementation) and concrete methods (methods with implementation)\n",
    "- can be used to define a common interface for a group of related classes\n",
    "- can be used to provide a common implementation for a group of related classes\n",
    "- in many cases you have an actual functionality behind teh signature that you would like to have all child classes inherit - this is where you would use an abstract class\n",
    "  - you can add specific implemented methods\n",
    "  - some specific constants or variables"
   ]
  },
  {
   "cell_type": "code",
   "execution_count": null,
   "metadata": {},
   "outputs": [],
   "source": [
    "class Animal:\n",
    "    def __init__(self, name):\n",
    "        self.name = name\n",
    "        print(\"Animal created\")\n",
    "\n",
    "    def speak(self):\n",
    "        raise NotImplementedError(\"Subclass must implement this abstract method\")\n",
    "    \n",
    "class Dog(Animal):\n",
    "    def speak(self):\n",
    "        return self.name + \" says woof!\"\n",
    "    \n",
    "class Cat(Animal):\n",
    "    def speak(self):\n",
    "        return self.name + \" says meow!\"\n",
    "    \n",
    "fido = Dog('Fido')\n",
    "isis = Cat('Isis')\n",
    "\n",
    "print(fido.speak())\n",
    "print(isis.speak())"
   ]
  },
  {
   "cell_type": "code",
   "execution_count": null,
   "metadata": {},
   "outputs": [],
   "source": [
    "from abc import ABC, abstractmethod\n",
    "\n",
    "\n",
    "class Shape(ABC):\n",
    "    @abstractmethod\n",
    "    def area(self):\n",
    "        pass\n",
    "\n",
    "    @abstractmethod\n",
    "    def perimeter(self):\n",
    "        pass\n",
    "\n",
    "    @abstractmethod\n",
    "    def description(self):\n",
    "        print(\n",
    "            f\"This is a shape with area {self.area()} and perimeter {self.perimeter()}\"\n",
    "        )"
   ]
  }
 ],
 "metadata": {
  "kernelspec": {
   "display_name": ".venv",
   "language": "python",
   "name": "python3"
  },
  "language_info": {
   "codemirror_mode": {
    "name": "ipython",
    "version": 3
   },
   "file_extension": ".py",
   "mimetype": "text/x-python",
   "name": "python",
   "nbconvert_exporter": "python",
   "pygments_lexer": "ipython3",
   "version": "3.12.9"
  }
 },
 "nbformat": 4,
 "nbformat_minor": 2
}
