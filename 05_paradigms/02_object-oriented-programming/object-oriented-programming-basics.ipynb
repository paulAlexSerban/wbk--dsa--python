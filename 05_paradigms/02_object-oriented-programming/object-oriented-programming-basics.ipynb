{
 "cells": [
  {
   "cell_type": "markdown",
   "metadata": {},
   "source": [
    "# Object Oriented Programming Basics"
   ]
  },
  {
   "cell_type": "code",
   "execution_count": null,
   "metadata": {},
   "outputs": [],
   "source": [
    "class Sample():\n",
    "    # self represents the instance of the object itself\n",
    "    # __init__ is a special method used to initialize the object - it is known as a constructor in other OOP languages\n",
    "    def __init__(self):\n",
    "        print(\"Sample created\")\n",
    "\n",
    "my_sample = Sample()\n",
    "type(my_sample)"
   ]
  },
  {
   "cell_type": "code",
   "execution_count": null,
   "metadata": {},
   "outputs": [],
   "source": [
    "class Dog():\n",
    "    # class object attribute\n",
    "    species = 'mammal'\n",
    "\n",
    "    def __init__(self, breed, name, spots):\n",
    "        self.breed = breed\n",
    "        self.name = name\n",
    "        self.spots = spots\n",
    "    \n",
    "    # Operations/Actions ---> Methods\n",
    "    def bark(self, number):\n",
    "        print(\"WOOF! My name is {} and the number is {}\".format(self.name, number))\n",
    "\n",
    "    def show(self):\n",
    "        print(\"My species is {}\".format(self.species))\n",
    "        print(\"My breed is {}\".format(self.breed))\n",
    "        print(\"My name is {}\".format(self.name))\n",
    "        print(\"I have spots: {}\".format(self.spots))\n",
    "        \n",
    "my_dog = Dog(breed='Lab', name='Sammy', spots=False)\n",
    "type(my_dog)\n",
    "my_dog.show()\n",
    "my_dog.bark(10)"
   ]
  },
  {
   "cell_type": "code",
   "execution_count": null,
   "metadata": {},
   "outputs": [],
   "source": [
    "class Circle():\n",
    "    # class object attribute\n",
    "    pi = 3.14\n",
    "\n",
    "    def __init__(self, radius=1):\n",
    "        self.radius = radius\n",
    "        self.area = radius * radius * self.pi\n",
    "\n",
    "    def get_circumference(self):\n",
    "        return self.radius * self.pi * 2\n",
    "    \n",
    "my_circle = Circle(30)\n",
    "print(my_circle.radius)\n",
    "print(my_circle.area)\n",
    "print(my_circle.get_circumference())"
   ]
  },
  {
   "cell_type": "markdown",
   "metadata": {},
   "source": [
    "## Inheritance and Polymorphism\n",
    "- using existing classes to create new classes\n",
    "- reusing code"
   ]
  },
  {
   "cell_type": "code",
   "execution_count": null,
   "metadata": {},
   "outputs": [],
   "source": [
    "class Animal:\n",
    "    def __init__(self, name):\n",
    "        self.name = name\n",
    "        print(\"Animal created\")\n",
    "\n",
    "    def who_am_i(self):\n",
    "        print(\"I am an animal\")\n",
    "\n",
    "    def eat(self):\n",
    "        print(\"I am eating\")\n",
    "\n",
    "\n",
    "# Dog inherits from Animal the methods who_am_i and eat\n",
    "class Dog(Animal):\n",
    "    def __init__(self, name):\n",
    "        Animal.__init__(self, name)\n",
    "        self.name = name\n",
    "        print(\"Dog created\")\n",
    "\n",
    "    # overwrite the who_am_i method\n",
    "    def who_am_i(self):\n",
    "        print(\"I am a dog\")\n",
    "        \n",
    "    def bark(self):\n",
    "        print(\"WOOF!\")\n",
    "        \n",
    "    def speak(self):\n",
    "        return self.name + \" says woof!\"\n",
    "\n",
    "\n",
    "my_dog = Dog('my first dog')\n",
    "my_dog.who_am_i()\n",
    "my_dog.eat()"
   ]
  },
  {
   "cell_type": "markdown",
   "metadata": {},
   "source": [
    "# Polymorphism\n",
    "- the ability to use a common interface for multiple forms (data types)"
   ]
  },
  {
   "cell_type": "code",
   "execution_count": null,
   "metadata": {},
   "outputs": [],
   "source": [
    "\n",
    "class Cat(Animal):\n",
    "    def __init__(self, name):\n",
    "        Animal.__init__(self, name)\n",
    "        self.name = name\n",
    "        print(\"Cat created\")\n",
    "\n",
    "    def who_am_i(self):\n",
    "        print(\"I am a cat\")\n",
    "\n",
    "    def meow(self):\n",
    "        print(\"MEOW!\")\n",
    "    \n",
    "    def speak(self):\n",
    "        return self.name + \" says meow!\"\n",
    "        \n",
    "niko = Dog('niko')\n",
    "felix = Cat('felix')\n",
    "\n",
    "print(niko.speak())\n",
    "print(felix.speak())\n",
    "\n",
    "for pet_class in [niko, felix]:\n",
    "    print(type(pet_class))\n",
    "    print(pet_class.speak())\n",
    "    \n",
    "def pet_speak(pet):\n",
    "    print(pet.speak())\n",
    "    \n",
    "pet_speak(niko)\n",
    "pet_speak(felix)"
   ]
  },
  {
   "cell_type": "markdown",
   "metadata": {},
   "source": [
    "# Using abstract classes"
   ]
  },
  {
   "cell_type": "code",
   "execution_count": 40,
   "metadata": {},
   "outputs": [
    {
     "name": "stdout",
     "output_type": "stream",
     "text": [
      "Animal created\n",
      "Animal created\n",
      "Fido says woof!\n",
      "Isis says meow!\n"
     ]
    }
   ],
   "source": [
    "class Animal:\n",
    "    def __init__(self, name):\n",
    "        self.name = name\n",
    "        print(\"Animal created\")\n",
    "\n",
    "    def speak(self):\n",
    "        raise NotImplementedError(\"Subclass must implement this abstract method\")\n",
    "    \n",
    "class Dog(Animal):\n",
    "    def speak(self):\n",
    "        return self.name + \" says woof!\"\n",
    "    \n",
    "class Cat(Animal):\n",
    "    def speak(self):\n",
    "        return self.name + \" says meow!\"\n",
    "    \n",
    "fido = Dog('Fido')\n",
    "isis = Cat('Isis')\n",
    "\n",
    "print(fido.speak())\n",
    "print(isis.speak())"
   ]
  }
 ],
 "metadata": {
  "kernelspec": {
   "display_name": ".venv",
   "language": "python",
   "name": "python3"
  },
  "language_info": {
   "codemirror_mode": {
    "name": "ipython",
    "version": 3
   },
   "file_extension": ".py",
   "mimetype": "text/x-python",
   "name": "python",
   "nbconvert_exporter": "python",
   "pygments_lexer": "ipython3",
   "version": "3.12.9"
  }
 },
 "nbformat": 4,
 "nbformat_minor": 2
}
