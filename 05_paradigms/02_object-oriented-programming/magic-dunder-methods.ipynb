{
 "cells": [
  {
   "cell_type": "markdown",
   "metadata": {},
   "source": [
    "# Magic or Dunder methods in Python\n",
    "- special methods in Python that start and end with double underscores\n",
    "- they are also called magic methods or dunder methods\n",
    "- they are used to define the behavior of objects\n",
    "- they are called automatically by Python when certain operations are performed on objects"
   ]
  },
  {
   "cell_type": "code",
   "execution_count": null,
   "metadata": {},
   "outputs": [],
   "source": [
    "class Book():\n",
    "    def __init__(self, title, author, pages):\n",
    "        self.title = title\n",
    "        self.author = author\n",
    "        self.pages = pages\n",
    "\n",
    "    def __str__(self):\n",
    "        return f\"{self.title} by {self.author}\"\n",
    "\n",
    "    def __len__(self):\n",
    "        return self.pages\n",
    "\n",
    "    def __del__(self):\n",
    "        print(\"A book object has been deleted\")\n",
    "        \n",
    "    def __getitem__(self, item):\n",
    "        return f\"Item: {item} is not available\"\n",
    "    \n",
    "    def __setitem__(self, key, value):\n",
    "        print(f\"Setting {key} to {value}\")"
   ]
  },
  {
   "cell_type": "code",
   "execution_count": null,
   "metadata": {},
   "outputs": [],
   "source": [
    "book = Book(\"Python\", \"Jose\", 200)\n",
    "print(book)\n",
    "\n",
    "print(len(book))\n",
    "print(book[1])\n",
    "book[1] = 2\n",
    "del book\n"
   ]
  }
 ],
 "metadata": {
  "kernelspec": {
   "display_name": ".venv",
   "language": "python",
   "name": "python3"
  },
  "language_info": {
   "codemirror_mode": {
    "name": "ipython",
    "version": 3
   },
   "file_extension": ".py",
   "mimetype": "text/x-python",
   "name": "python",
   "nbconvert_exporter": "python",
   "pygments_lexer": "ipython3",
   "version": "3.12.9"
  }
 },
 "nbformat": 4,
 "nbformat_minor": 2
}
