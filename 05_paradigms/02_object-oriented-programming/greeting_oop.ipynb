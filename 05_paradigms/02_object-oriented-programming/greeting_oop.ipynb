{
 "cells": [
  {
   "cell_type": "code",
   "execution_count": null,
   "id": "39909d94",
   "metadata": {},
   "outputs": [],
   "source": [
    "class Greeting:\n",
    "    def __init__(self, name):\n",
    "        self.name = name\n",
    "\n",
    "    def greet(self):\n",
    "        return f\"Hello, {self.name}!\"\n",
    "    \n",
    "    def say_hello(self):\n",
    "        print(\"Hello from the Greeting class!\")"
   ]
  },
  {
   "cell_type": "code",
   "execution_count": null,
   "id": "61374956",
   "metadata": {},
   "outputs": [],
   "source": [
    "greeting = Greeting(\"World\")\n",
    "print(greeting.greet())\n",
    "\n",
    "greeting.say_hello()"
   ]
  },
  {
   "cell_type": "code",
   "execution_count": null,
   "id": "e2554542",
   "metadata": {},
   "outputs": [],
   "source": [
    "class BetterGreeting(Greeting):\n",
    "    def __init__(self, name, greeting_message=\"Hello\"):\n",
    "        super().__init__(name)\n",
    "        self.greeting_message = greeting_message\n",
    "\n",
    "    def greet(self):\n",
    "        return f\"{self.greeting_message}, {self.name}!\""
   ]
  },
  {
   "cell_type": "code",
   "execution_count": null,
   "id": "86247f16",
   "metadata": {},
   "outputs": [],
   "source": [
    "better_greeting = BetterGreeting(\"World\", \"Hi\")\n",
    "print(better_greeting.greet())  "
   ]
  }
 ],
 "metadata": {
  "kernelspec": {
   "display_name": ".venv",
   "language": "python",
   "name": "python3"
  },
  "language_info": {
   "codemirror_mode": {
    "name": "ipython",
    "version": 3
   },
   "file_extension": ".py",
   "mimetype": "text/x-python",
   "name": "python",
   "nbconvert_exporter": "python",
   "pygments_lexer": "ipython3",
   "version": "3.12.9"
  }
 },
 "nbformat": 4,
 "nbformat_minor": 5
}
