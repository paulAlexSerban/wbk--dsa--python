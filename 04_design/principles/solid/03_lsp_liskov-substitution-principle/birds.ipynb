{
 "cells": [
  {
   "cell_type": "code",
   "execution_count": null,
   "id": "df78ddee",
   "metadata": {},
   "outputs": [],
   "source": [
    "class Bird:\n",
    "    def fly(self):\n",
    "        return \"I can fly!\"\\\n",
    "            \n",
    "class Penguin(Bird):\n",
    "    def fly(self):\n",
    "        return \"I cannot fly, but I can swim!\"\n",
    "    \n",
    "\"\"\"\n",
    "LSP Hints\n",
    "- if we were to use the Penguin class in a context where Bird is expected, we might get unexpected behavior due to overridden fly() method\n",
    "- this can lead to error and inconsistencies in the code\n",
    "\"\"\""
   ]
  },
  {
   "cell_type": "code",
   "execution_count": null,
   "id": "97b041b0",
   "metadata": {},
   "outputs": [],
   "source": [
    "class Bird:\n",
    "    def fly(self):\n",
    "        pass\n",
    "    \n",
    "class FlyingBird(Bird):\n",
    "    def fly(self):\n",
    "        return \"I can fly!\"\n",
    "    \n",
    "class NonFlyingBird(Bird):\n",
    "    def fly(self):\n",
    "        return \"I cannot fly, but I can swim!\"\n",
    "    \n",
    "class Penguin(NonFlyingBird):\n",
    "    def swim(self):\n",
    "        return \"I can swim!\"\n",
    "    \n",
    "\"\"\"\n",
    "Refactored Solution\n",
    "- we introduce two new classes: FlyingBird and NonFlyingBird, both inheriting from Bird\n",
    "- FlyingBird implements the fly() method, while NonFlyingBird provides a different implementation\n",
    "- Penguin now inherits from NonFlyingBird, ensuring that it adheres to the Liskov Substitution Principle\n",
    "- this way, we can use Penguin in contexts where NonFlyingBird is expected\n",
    "\n",
    "- this adheres to the LSP because any subclass of Bird can now be substituted without altering the correctness of the program\n",
    "- we can use Penguin in contexts where NonFlyingBird is expected without causing issues\n",
    "\"\"\""
   ]
  }
 ],
 "metadata": {
  "language_info": {
   "name": "python"
  }
 },
 "nbformat": 4,
 "nbformat_minor": 5
}
