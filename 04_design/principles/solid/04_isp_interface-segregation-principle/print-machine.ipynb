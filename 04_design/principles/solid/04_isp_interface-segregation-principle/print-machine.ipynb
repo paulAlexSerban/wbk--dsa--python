{
 "cells": [
  {
   "cell_type": "code",
   "execution_count": 5,
   "metadata": {},
   "outputs": [],
   "source": [
    "class Machine:\n",
    "    def print(self, document):\n",
    "        raise NotImplementedError(\"Subclasses should implement this method.\")\n",
    "    def scan(self, document):\n",
    "        raise NotImplementedError(\"Subclasses should implement this method.\")\n",
    "    def fax(self, document):\n",
    "        raise NotImplementedError(\"Subclasses should implement this method.\")\n",
    "    def copy(self, document):\n",
    "        raise NotImplementedError(\"Subclasses should implement this method.\")\n",
    "    def print_scan(self, document):\n",
    "        raise NotImplementedError(\"Subclasses should implement this method.\")\n",
    "    def print_fax(self, document):\n",
    "        raise NotImplementedError(\"Subclasses should implement this method.\")"
   ]
  },
  {
   "cell_type": "code",
   "execution_count": 6,
   "metadata": {},
   "outputs": [],
   "source": [
    "class MultiFunctionMachine(Machine):\n",
    "    def print(self, document):\n",
    "        print(f\"Printing: {document}\")\n",
    "    def scan(self, document):\n",
    "        print(f\"Scanning: {document}\")\n",
    "    def fax(self, document):\n",
    "        print(f\"Faxing: {document}\")\n",
    "    def copy(self, document):\n",
    "        print(f\"Copying: {document}\")\n",
    "    def print_scan(self, document): \n",
    "        print(f\"Printing and scanning: {document}\")\n",
    "    def print_fax(self, document):\n",
    "        print(f\"Printing and faxing: {document}\")\n",
    "\n",
    "# This is a violation of the Interface Segregation Principle (ISP)\n",
    "# because it forces the OldFashionedPrinter to implement methods it doesn't use.\n",
    "# The OldFashionedPrinter class should only implement the methods it needs.\n",
    "class OldFashionedPrinter(Machine):\n",
    "    def print(self, document):\n",
    "        print(f\"Printing: {document}\")\n",
    "    def scan(self, document):\n",
    "        raise NotImplementedError(\"This printer cannot scan.\")\n",
    "    def fax(self, document):\n",
    "        raise NotImplementedError(\"This printer cannot fax.\")\n",
    "    def copy(self, document):\n",
    "        raise NotImplementedError(\"This printer cannot copy.\")\n",
    "    def print_scan(self, document): \n",
    "        raise NotImplementedError(\"This printer cannot print and scan.\")\n",
    "    def print_fax(self, document):\n",
    "        raise NotImplementedError(\"This printer cannot print and fax.\")"
   ]
  },
  {
   "cell_type": "markdown",
   "metadata": {},
   "source": [
    "# Solution"
   ]
  },
  {
   "cell_type": "code",
   "execution_count": 7,
   "metadata": {},
   "outputs": [],
   "source": [
    "from abc import abstractmethod\n",
    "\n",
    "\n",
    "class Printer:\n",
    "    @abstractmethod\n",
    "    def print(self, document):\n",
    "        pass\n",
    "        \n",
    "class Scanner:\n",
    "    @abstractmethod\n",
    "    def scan(self, document):\n",
    "        pass\n",
    "    \n",
    "class Fax:\n",
    "    @abstractmethod\n",
    "    def fax(self, document):\n",
    "        pass\n",
    "    \n",
    "class Copier:\n",
    "    @abstractmethod\n",
    "    def copy(self, document):\n",
    "        pass"
   ]
  },
  {
   "cell_type": "code",
   "execution_count": 8,
   "metadata": {},
   "outputs": [],
   "source": [
    "class MyPrinter(Printer):\n",
    "    def print(self, document):\n",
    "        print(f\"Printing: {document}\")\n",
    "        \n",
    "class MyScanner(Scanner):\n",
    "    def scan(self, document):\n",
    "        print(f\"Scanning: {document}\")\n",
    "        \n",
    "class MyFax(Fax):\n",
    "    def fax(self, document):\n",
    "        print(f\"Faxing: {document}\")\n",
    "        \n",
    "class MyCopier(Copier):\n",
    "    def copy(self, document):\n",
    "        print(f\"Copying: {document}\")\n",
    "        \n",
    "class StupidPrinter(Printer):\n",
    "    def print(self, document):\n",
    "        print(f\"Printing: {document}\")"
   ]
  }
 ],
 "metadata": {
  "kernelspec": {
   "display_name": ".venv",
   "language": "python",
   "name": "python3"
  },
  "language_info": {
   "codemirror_mode": {
    "name": "ipython",
    "version": 3
   },
   "file_extension": ".py",
   "mimetype": "text/x-python",
   "name": "python",
   "nbconvert_exporter": "python",
   "pygments_lexer": "ipython3",
   "version": "3.12.9"
  }
 },
 "nbformat": 4,
 "nbformat_minor": 2
}
