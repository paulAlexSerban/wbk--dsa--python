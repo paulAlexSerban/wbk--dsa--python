{
 "cells": [
  {
   "cell_type": "markdown",
   "metadata": {},
   "source": [
    "# Program to an Interface, not to an Implementation\n",
    "This principle encourages designing systems to depend on abstractions (interfaces) rather than concrete implementations. By doing so:\n",
    "\n",
    "- Code becomes more flexible and easier to extend.\n",
    "- You can swap out implementations without affecting the rest of the system.\n",
    "\n",
    "For example:\n",
    "\n"
   ]
  },
  {
   "cell_type": "code",
   "execution_count": null,
   "metadata": {},
   "outputs": [],
   "source": [
    "class PaymentProcessor:\n",
    "    def process_payment(self, amount):\n",
    "        pass\n",
    "\n",
    "class CreditCardProcessor(PaymentProcessor):\n",
    "    def process_payment(self, amount):\n",
    "        print(f\"Processing credit card payment of {amount}\")\n",
    "\n",
    "class PayPalProcessor(PaymentProcessor):\n",
    "    def process_payment(self, amount):\n",
    "        print(f\"Processing PayPal payment of {amount}\")\n",
    "\n",
    "# Client code depends on the interface, not the implementation\n",
    "def checkout(processor: PaymentProcessor, amount):\n",
    "    processor.process_payment(amount)\n",
    "\n",
    "checkout(CreditCardProcessor(), 100)\n",
    "checkout(PayPalProcessor(), 200)"
   ]
  }
 ],
 "metadata": {
  "kernelspec": {
   "display_name": ".venv",
   "language": "python",
   "name": "python3"
  },
  "language_info": {
   "codemirror_mode": {
    "name": "ipython",
    "version": 3
   },
   "file_extension": ".py",
   "mimetype": "text/x-python",
   "name": "python",
   "nbconvert_exporter": "python",
   "pygments_lexer": "ipython3",
   "version": "3.12.9"
  }
 },
 "nbformat": 4,
 "nbformat_minor": 2
}
