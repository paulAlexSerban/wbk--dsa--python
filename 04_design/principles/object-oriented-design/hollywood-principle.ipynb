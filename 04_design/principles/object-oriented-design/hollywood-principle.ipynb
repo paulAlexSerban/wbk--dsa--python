{
 "cells": [
  {
   "cell_type": "markdown",
   "metadata": {},
   "source": [
    "# Hollywood Principle\n",
    "\n",
    "The Hollywood Principle states: \"Don't call us, we'll call you.\"\n",
    "This principle is about inversion of control (IoC), where higher-level components control the flow of the program and call lower-level components when needed. It prevents tight coupling and allows for more flexible designs.\n",
    "\n",
    "For example:\n",
    "\n",
    "- In frameworks like Django or Flask, you define handlers (e.g., routes or callbacks), and the framework calls them when appropriate.\n"
   ]
  }
 ],
 "metadata": {
  "language_info": {
   "name": "python"
  }
 },
 "nbformat": 4,
 "nbformat_minor": 2
}
