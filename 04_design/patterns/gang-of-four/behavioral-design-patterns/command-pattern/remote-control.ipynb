{
 "cells": [
  {
   "cell_type": "markdown",
   "metadata": {},
   "source": [
    "# Remote Control with Command Pattern"
   ]
  },
  {
   "cell_type": "code",
   "execution_count": null,
   "metadata": {},
   "outputs": [],
   "source": [
    "# Command Interface\n",
    "class Command:\n",
    "    def execute(self):\n",
    "        pass\n",
    "\n",
    "# Concrete Command\n",
    "class LightOnCommand(Command):\n",
    "    def __init__(self, light):\n",
    "        self.light = light\n",
    "\n",
    "    def execute(self):\n",
    "        self.light.turn_on()\n",
    "\n",
    "class LightOffCommand(Command):\n",
    "    def __init__(self, light):\n",
    "        self.light = light\n",
    "\n",
    "    def execute(self):\n",
    "        self.light.turn_off()\n",
    "\n",
    "# Receiver\n",
    "class Light:\n",
    "    def turn_on(self):\n",
    "        print(\"The light is ON\")\n",
    "\n",
    "    def turn_off(self):\n",
    "        print(\"The light is OFF\")\n",
    "\n",
    "# Invoker\n",
    "class RemoteControl:\n",
    "    def __init__(self):\n",
    "        self.command = None\n",
    "\n",
    "    def set_command(self, command):\n",
    "        self.command = command\n",
    "\n",
    "    def press_button(self):\n",
    "        if self.command:\n",
    "            self.command.execute()\n",
    "\n",
    "# Client\n",
    "if __name__ == \"__main__\":\n",
    "    # Receiver\n",
    "    light = Light()\n",
    "\n",
    "    # Concrete Commands\n",
    "    light_on = LightOnCommand(light)\n",
    "    light_off = LightOffCommand(light)\n",
    "\n",
    "    # Invoker\n",
    "    remote = RemoteControl()\n",
    "\n",
    "    # Turn the light ON\n",
    "    remote.set_command(light_on)\n",
    "    remote.press_button()\n",
    "\n",
    "    # Turn the light OFF\n",
    "    remote.set_command(light_off)\n",
    "    remote.press_button()"
   ]
  }
 ],
 "metadata": {
  "kernelspec": {
   "display_name": ".venv",
   "language": "python",
   "name": "python3"
  },
  "language_info": {
   "codemirror_mode": {
    "name": "ipython",
    "version": 3
   },
   "file_extension": ".py",
   "mimetype": "text/x-python",
   "name": "python",
   "nbconvert_exporter": "python",
   "pygments_lexer": "ipython3",
   "version": "3.12.9"
  }
 },
 "nbformat": 4,
 "nbformat_minor": 2
}
