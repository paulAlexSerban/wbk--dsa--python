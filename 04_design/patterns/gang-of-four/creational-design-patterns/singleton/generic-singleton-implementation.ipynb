{
 "cells": [
  {
   "cell_type": "markdown",
   "id": "8c9d404a",
   "metadata": {},
   "source": [
    "# Generic Singleton Implementation\n",
    "\n",
    "Notes:\n",
    "- Python does not really have a constructor, but it does have a creation and initialization routines for classes\n",
    "- It does not strictly have a static keyword for variables, but it does support class-level variables and methods which for all purposes are static\n",
    "- `__new__` - is static method that is responsible for creating and returning a new instance of a class - it is the first step in the object instantiation process - it is typically overridden when you need to control the object creation process\n",
    "- `__init__` - is the instance method that initializes the instance after it has been created by `__new__` - it is typically overridden to set up the initial state of the object\n",
    "    - the `__init__` method does not return a value and it is called automatically after the object os created - this method is typically overridden to define custom attribute initialization\n",
    "- `__call__` is an instance method that allows a class instances to be called if they were functions"
   ]
  },
  {
   "cell_type": "code",
   "execution_count": 6,
   "id": "c97252d1",
   "metadata": {},
   "outputs": [],
   "source": [
    "class LoggerSingleton:\n",
    "    # class-level variable to store the single instance of the class\n",
    "    _instance = None\n",
    "\n",
    "    # override the __new__ method to control how new objects are created\n",
    "    def __new__(cls, *args, **kwargs):\n",
    "        # check if instance of the class has been created before - Note: Lazy Instantiation\n",
    "        if not cls._instance:\n",
    "            # create new instance of the class and store it in _instance\n",
    "            cls._instance = super(LoggerSingleton, cls).__new__(cls)\n",
    "        # return the single instance of the class, either newly created one or the existing one\n",
    "        return cls._instance\n",
    "\n",
    "    def __init__(self):\n",
    "        if not hasattr(self, 'initialized'):\n",
    "            self.initialized = True\n",
    "            self.log_file = \"log.txt\"\n",
    "            with open(self.log_file, 'w') as f:\n",
    "                f.write(\"Logger initialized.\\n\")\n",
    "\n",
    "    def log(self, message):\n",
    "        with open(self.log_file, 'a') as f:\n",
    "            f.write(f\"{message}\\n\")"
   ]
  },
  {
   "cell_type": "code",
   "execution_count": 7,
   "id": "7c45c0e9",
   "metadata": {},
   "outputs": [
    {
     "name": "stdout",
     "output_type": "stream",
     "text": [
      "True\n"
     ]
    }
   ],
   "source": [
    "logger = LoggerSingleton()\n",
    "logger.log(\"This is a log message.\")\n",
    "logger2 = LoggerSingleton()  # This will return the same instance as logger\n",
    "logger2.log(\"This is another log message.\")\n",
    "print(logger is logger2)  # This will print True, confirming both are the same\n",
    "logger2.log(\"This is a log message from logger2.\")\n",
    "logger.log(\"This is a log message from logger.\")"
   ]
  }
 ],
 "metadata": {
  "kernelspec": {
   "display_name": ".venv",
   "language": "python",
   "name": "python3"
  },
  "language_info": {
   "codemirror_mode": {
    "name": "ipython",
    "version": 3
   },
   "file_extension": ".py",
   "mimetype": "text/x-python",
   "name": "python",
   "nbconvert_exporter": "python",
   "pygments_lexer": "ipython3",
   "version": "3.12.9"
  }
 },
 "nbformat": 4,
 "nbformat_minor": 5
}
