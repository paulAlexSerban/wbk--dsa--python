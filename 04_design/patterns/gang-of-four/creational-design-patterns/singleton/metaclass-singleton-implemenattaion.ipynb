{
 "cells": [
  {
   "cell_type": "markdown",
   "id": "c3184237",
   "metadata": {},
   "source": [
    "# Metaclass Singleton Implementation\n",
    "\n",
    "Notes:\n",
    "- `__new__` since a metaclass is a class that cerates other classes, `__new__` in metaclass is responsible for creating and returning a new class object.\n",
    "- `__init__` this method is responsible for initializing the new class object created by the metaclass, such as setting class attributes or other class-level properties\n",
    "- `__call__` in a metaclass, this method allows instances of the metaclass (where are class objects themselves) to be called as if they were functions - thi is executed when creating instances of the classes created by the metaclass - by customizing the method, you can contrl how instances of those are created or returned"
   ]
  },
  {
   "cell_type": "code",
   "execution_count": null,
   "id": "0123a2e5",
   "metadata": {
    "vscode": {
     "languageId": "plaintext"
    }
   },
   "outputs": [],
   "source": []
  }
 ],
 "metadata": {
  "language_info": {
   "name": "python"
  }
 },
 "nbformat": 4,
 "nbformat_minor": 5
}
