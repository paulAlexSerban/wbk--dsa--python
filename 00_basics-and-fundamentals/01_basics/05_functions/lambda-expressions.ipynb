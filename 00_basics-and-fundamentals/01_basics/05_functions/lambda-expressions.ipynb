{
 "cells": [
  {
   "cell_type": "markdown",
   "metadata": {},
   "source": [
    "# Lambda Expressions\n",
    "\n",
    "## Introduction\n",
    "Lambda expressions are a way to define small anonymous functions in Python. They are syntactically restricted to a single expression. They can be used wherever function objects are required. They are syntactically restricted to a single expression. They are a shorthand way to define anonymous functions, i.e. functions without a name. They are also known as lambda functions.\n",
    "\n",
    "## Syntax\n",
    "The syntax of a lambda function is:\n",
    "```\n",
    "lambda arguments: expression\n",
    "```\n",
    "- Lambda functions can have any number of arguments but only one expression.\n",
    "- The expression is evaluated and returned.\n",
    "- Lambda functions can be used wherever function objects are required."
   ]
  },
  {
   "cell_type": "code",
   "execution_count": 1,
   "metadata": {},
   "outputs": [
    {
     "data": {
      "text/plain": [
       "9"
      ]
     },
     "execution_count": 1,
     "metadata": {},
     "output_type": "execute_result"
    }
   ],
   "source": [
    "def square(num):\n",
    "    return num**2\n",
    "\n",
    "square(2)\n",
    "square(3)"
   ]
  },
  {
   "cell_type": "code",
   "execution_count": null,
   "metadata": {},
   "outputs": [],
   "source": [
    "square_lambda = lambda num: num**2\n",
    "\n",
    "square_lambda(2)\n",
    "square_lambda(3)\n"
   ]
  }
 ],
 "metadata": {
  "kernelspec": {
   "display_name": ".venv",
   "language": "python",
   "name": "python3"
  },
  "language_info": {
   "codemirror_mode": {
    "name": "ipython",
    "version": 3
   },
   "file_extension": ".py",
   "mimetype": "text/x-python",
   "name": "python",
   "nbconvert_exporter": "python",
   "pygments_lexer": "ipython3",
   "version": "3.12.9"
  }
 },
 "nbformat": 4,
 "nbformat_minor": 2
}
