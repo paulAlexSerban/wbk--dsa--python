{
 "cells": [
  {
   "cell_type": "markdown",
   "metadata": {},
   "source": [
    "# Unique Items List\n",
    "\n",
    "## Problem\n",
    "Given a list of items, return a list of unique items."
   ]
  },
  {
   "cell_type": "code",
   "execution_count": null,
   "metadata": {},
   "outputs": [],
   "source": [
    "def unique_list(init_list):\n",
    "    uni_list = []\n",
    "    for item in init_list:\n",
    "        if item not in uni_list:\n",
    "            uni_list.append(item)\n",
    "    return uni_list\n",
    "\n",
    "print(unique_list([1, 2, 3, 3, 3, 3, 4, 5])) # [1, 2, 3, 4, 5]\n",
    "print(unique_list([1, 1, 1, 1, 1, 2])) # [1, 2]\n",
    "print(unique_list([1, 2, 3, 4, 5])) # [1, 2, 3, 4, 5]"
   ]
  }
 ],
 "metadata": {
  "kernelspec": {
   "display_name": ".venv",
   "language": "python",
   "name": "python3"
  },
  "language_info": {
   "codemirror_mode": {
    "name": "ipython",
    "version": 3
   },
   "file_extension": ".py",
   "mimetype": "text/x-python",
   "name": "python",
   "nbconvert_exporter": "python",
   "pygments_lexer": "ipython3",
   "version": "3.12.9"
  }
 },
 "nbformat": 4,
 "nbformat_minor": 2
}
