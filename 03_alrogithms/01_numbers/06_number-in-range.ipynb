{
 "cells": [
  {
   "cell_type": "markdown",
   "metadata": {},
   "source": [
    "# Number in range\n",
    "## Problem\n",
    "Write a function that checks whether a number is in given range (inclusive of high and low)"
   ]
  },
  {
   "cell_type": "code",
   "execution_count": null,
   "metadata": {},
   "outputs": [],
   "source": [
    "def range_check(num, low, high):\n",
    "    if num in range(low, high+1):\n",
    "        print(f'{num} is in the range between {low} and {high}')\n",
    "    else:\n",
    "        print(f'{num} is not in the range between {low} and {high}')\n",
    "\n",
    "range_check(5, 1, 10)\n",
    "range_check(5, 6, 10)\n",
    "range_check(5, 1, 4)\n",
    "range_check(5, 1, 5)\n",
    "range_check(5, 5, 10)"
   ]
  }
 ],
 "metadata": {
  "kernelspec": {
   "display_name": ".venv",
   "language": "python",
   "name": "python3"
  },
  "language_info": {
   "codemirror_mode": {
    "name": "ipython",
    "version": 3
   },
   "file_extension": ".py",
   "mimetype": "text/x-python",
   "name": "python",
   "nbconvert_exporter": "python",
   "pygments_lexer": "ipython3",
   "version": "3.12.9"
  }
 },
 "nbformat": 4,
 "nbformat_minor": 2
}
