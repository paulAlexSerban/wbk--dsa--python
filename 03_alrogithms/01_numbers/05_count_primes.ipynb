{
 "cells": [
  {
   "cell_type": "markdown",
   "metadata": {},
   "source": [
    "# Count Primes\n",
    "\n",
    "## Problem\n",
    "Write a function that returns the number of prime numbers that exist up to and including a given number"
   ]
  },
  {
   "cell_type": "code",
   "execution_count": null,
   "metadata": {},
   "outputs": [],
   "source": [
    "def count_primes_slow(n):\n",
    "    # check for 0 or 1 input\n",
    "    if n < 2:\n",
    "        return 0\n",
    "    ################\n",
    "    # 2 or greater\n",
    "    ################\n",
    "    # store prime numbers\n",
    "    primes = [2]\n",
    "    # counter going up to input n\n",
    "    counter = 3\n",
    "    while counter <= n:\n",
    "        # check if counter is prime - for is going through all numbers from 3 to counter in steps of 2\n",
    "        for y in range(3,counter,2):\n",
    "            if counter%y == 0:\n",
    "                counter += 2\n",
    "                break\n",
    "        else:\n",
    "            # if no divisors found, add to list\n",
    "            primes.append(counter)\n",
    "            counter += 2\n",
    "\n",
    "    return len(primes)\n"
   ]
  },
  {
   "cell_type": "code",
   "execution_count": null,
   "metadata": {},
   "outputs": [
    {
     "name": "stdout",
     "output_type": "stream",
     "text": [
      "4\n",
      "25\n",
      "168\n",
      "1229\n",
      "9592\n"
     ]
    },
    {
     "ename": "KeyboardInterrupt",
     "evalue": "",
     "output_type": "error",
     "traceback": [
      "\u001b[0;31m---------------------------------------------------------------------------\u001b[0m",
      "\u001b[0;31mKeyboardInterrupt\u001b[0m                         Traceback (most recent call last)",
      "Cell \u001b[0;32mIn[4], line 7\u001b[0m\n\u001b[1;32m      5\u001b[0m \u001b[38;5;28mprint\u001b[39m(count_primes(\u001b[38;5;241m10000\u001b[39m)) \u001b[38;5;66;03m# 1229\u001b[39;00m\n\u001b[1;32m      6\u001b[0m \u001b[38;5;28mprint\u001b[39m(count_primes(\u001b[38;5;241m100000\u001b[39m)) \u001b[38;5;66;03m# 9592\u001b[39;00m\n\u001b[0;32m----> 7\u001b[0m \u001b[38;5;28mprint\u001b[39m(\u001b[43mcount_primes\u001b[49m\u001b[43m(\u001b[49m\u001b[38;5;241;43m1000000\u001b[39;49m\u001b[43m)\u001b[49m) \u001b[38;5;66;03m# 78498\u001b[39;00m\n",
      "Cell \u001b[0;32mIn[3], line 15\u001b[0m, in \u001b[0;36mcount_primes\u001b[0;34m(n)\u001b[0m\n\u001b[1;32m     12\u001b[0m \u001b[38;5;28;01mwhile\u001b[39;00m counter \u001b[38;5;241m<\u001b[39m\u001b[38;5;241m=\u001b[39m n:\n\u001b[1;32m     13\u001b[0m     \u001b[38;5;66;03m# check if counter is prime - for is going through all numbers from 3 to counter in steps of 2\u001b[39;00m\n\u001b[1;32m     14\u001b[0m     \u001b[38;5;28;01mfor\u001b[39;00m y \u001b[38;5;129;01min\u001b[39;00m \u001b[38;5;28mrange\u001b[39m(\u001b[38;5;241m3\u001b[39m,counter,\u001b[38;5;241m2\u001b[39m):\n\u001b[0;32m---> 15\u001b[0m         \u001b[38;5;28;01mif\u001b[39;00m counter\u001b[38;5;241m%\u001b[39my \u001b[38;5;241m==\u001b[39m \u001b[38;5;241m0\u001b[39m:\n\u001b[1;32m     16\u001b[0m             counter \u001b[38;5;241m+\u001b[39m\u001b[38;5;241m=\u001b[39m \u001b[38;5;241m2\u001b[39m\n\u001b[1;32m     17\u001b[0m             \u001b[38;5;28;01mbreak\u001b[39;00m\n",
      "\u001b[0;31mKeyboardInterrupt\u001b[0m: "
     ]
    }
   ],
   "source": [
    "# check\n",
    "print(count_primes_slow(10)) # 4\n",
    "print(count_primes_slow(100)) # 25\n",
    "print(count_primes_slow(1000)) # 168\n",
    "print(count_primes_slow(10000)) # 1229\n",
    "print(count_primes_slow(100000)) # 9592\n",
    "print(count_primes_slow(1000000)) # 78498"
   ]
  },
  {
   "cell_type": "code",
   "execution_count": 6,
   "metadata": {},
   "outputs": [],
   "source": [
    "def count_primes_fast(n):\n",
    "    if n < 2:\n",
    "        return 0\n",
    "    primes = [True] * n\n",
    "    primes[0] = primes[1] = False\n",
    "    for i in range(2, int(n ** 0.5) + 1):\n",
    "        if primes[i]:\n",
    "            primes[i * i:n:i] = [False] * len(primes[i * i:n:i])\n",
    "    return sum(primes)"
   ]
  },
  {
   "cell_type": "code",
   "execution_count": 7,
   "metadata": {},
   "outputs": [
    {
     "name": "stdout",
     "output_type": "stream",
     "text": [
      "4\n",
      "25\n",
      "168\n",
      "1229\n",
      "9592\n",
      "78498\n"
     ]
    }
   ],
   "source": [
    "print(count_primes_fast(10)) # 4\n",
    "print(count_primes_fast(100)) # 25\n",
    "print(count_primes_fast(1000)) # 168\n",
    "print(count_primes_fast(10000)) # 1229\n",
    "print(count_primes_fast(100000)) # 9592\n",
    "print(count_primes_fast(1000000)) # 78498\n"
   ]
  }
 ],
 "metadata": {
  "kernelspec": {
   "display_name": ".venv",
   "language": "python",
   "name": "python3"
  },
  "language_info": {
   "codemirror_mode": {
    "name": "ipython",
    "version": 3
   },
   "file_extension": ".py",
   "mimetype": "text/x-python",
   "name": "python",
   "nbconvert_exporter": "python",
   "pygments_lexer": "ipython3",
   "version": "3.12.9"
  }
 },
 "nbformat": 4,
 "nbformat_minor": 2
}
