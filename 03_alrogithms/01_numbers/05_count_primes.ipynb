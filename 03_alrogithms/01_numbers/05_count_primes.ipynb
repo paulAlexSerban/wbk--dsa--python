{
 "cells": [
  {
   "cell_type": "markdown",
   "metadata": {},
   "source": [
    "# Count Primes\n",
    "\n",
    "## Problem\n",
    "Write a function that returns the number of prime numbers that exist up to and including a given number"
   ]
  },
  {
   "cell_type": "code",
   "execution_count": null,
   "metadata": {},
   "outputs": [],
   "source": [
    "def count_primes_slow(n):\n",
    "    # check for 0 or 1 input\n",
    "    if n < 2:\n",
    "        return 0\n",
    "    ################\n",
    "    # 2 or greater\n",
    "    ################\n",
    "    # store prime numbers\n",
    "    primes = [2]\n",
    "    # counter going up to input n\n",
    "    counter = 3\n",
    "    while counter <= n:\n",
    "        # check if counter is prime - for is going through all numbers from 3 to counter in steps of 2\n",
    "        for y in range(3,counter,2):\n",
    "            if counter%y == 0:\n",
    "                counter += 2\n",
    "                break\n",
    "        else:\n",
    "            # if no divisors found, add to list\n",
    "            primes.append(counter)\n",
    "            counter += 2\n",
    "\n",
    "    return len(primes)\n"
   ]
  },
  {
   "cell_type": "code",
   "execution_count": null,
   "metadata": {},
   "outputs": [],
   "source": [
    "# check\n",
    "print(count_primes_slow(10)) # 4\n",
    "print(count_primes_slow(100)) # 25\n",
    "print(count_primes_slow(1000)) # 168\n",
    "print(count_primes_slow(10000)) # 1229\n",
    "print(count_primes_slow(100000)) # 9592\n",
    "print(count_primes_slow(1000000)) # 78498"
   ]
  },
  {
   "cell_type": "code",
   "execution_count": null,
   "metadata": {},
   "outputs": [],
   "source": [
    "def count_primes_fast(n):\n",
    "    if n < 2:\n",
    "        return 0\n",
    "    primes = [True] * n\n",
    "    primes[0] = primes[1] = False\n",
    "    for i in range(2, int(n ** 0.5) + 1):\n",
    "        if primes[i]:\n",
    "            primes[i * i:n:i] = [False] * len(primes[i * i:n:i])\n",
    "    return sum(primes)"
   ]
  },
  {
   "cell_type": "code",
   "execution_count": null,
   "metadata": {},
   "outputs": [],
   "source": [
    "print(count_primes_fast(10)) # 4\n",
    "print(count_primes_fast(100)) # 25\n",
    "print(count_primes_fast(1000)) # 168\n",
    "print(count_primes_fast(10000)) # 1229\n",
    "print(count_primes_fast(100000)) # 9592\n",
    "print(count_primes_fast(1000000)) # 78498\n"
   ]
  }
 ],
 "metadata": {
  "kernelspec": {
   "display_name": ".venv",
   "language": "python",
   "name": "python3"
  },
  "language_info": {
   "codemirror_mode": {
    "name": "ipython",
    "version": 3
   },
   "file_extension": ".py",
   "mimetype": "text/x-python",
   "name": "python",
   "nbconvert_exporter": "python",
   "pygments_lexer": "ipython3",
   "version": "3.12.9"
  }
 },
 "nbformat": 4,
 "nbformat_minor": 2
}
