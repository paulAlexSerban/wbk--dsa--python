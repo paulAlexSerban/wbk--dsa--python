{
 "cells": [
  {
   "cell_type": "markdown",
   "metadata": {},
   "source": [
    "# Multiply All Numbers\n",
    "\n",
    "## Problem\n",
    "Given a list of numbers, return a list where all numbers are multiplied by a given number."
   ]
  },
  {
   "cell_type": "code",
   "execution_count": null,
   "metadata": {},
   "outputs": [],
   "source": [
    "def multiply(numbers):\n",
    "    total = 1\n",
    "    for x in numbers:\n",
    "        total *= x\n",
    "    return total\n",
    "\n",
    "print(multiply((8, 2, 3, -1, 7))) # Output: -336\n",
    "print(multiply((1, 2, 3, 4, 5))) # Output: 120\n",
    "print(multiply((10, 20, 30, 40, 50))) # Output: 12000000\n",
    "print(multiply((1, 2, 3, 4, 5, 6, 7, 8, 9, 10))) # Output: 3628800"
   ]
  }
 ],
 "metadata": {
  "kernelspec": {
   "display_name": ".venv",
   "language": "python",
   "name": "python3"
  },
  "language_info": {
   "codemirror_mode": {
    "name": "ipython",
    "version": 3
   },
   "file_extension": ".py",
   "mimetype": "text/x-python",
   "name": "python",
   "nbconvert_exporter": "python",
   "pygments_lexer": "ipython3",
   "version": "3.12.9"
  }
 },
 "nbformat": 4,
 "nbformat_minor": 2
}
