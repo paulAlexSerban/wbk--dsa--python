{
 "cells": [
  {
   "cell_type": "markdown",
   "metadata": {},
   "source": [
    "# Up - Low Letters\n",
    "\n",
    "## Problem\n",
    "Write a function that accepts a string and calculates the number of uppercase and lowercase letters."
   ]
  },
  {
   "cell_type": "code",
   "execution_count": null,
   "metadata": {},
   "outputs": [],
   "source": [
    "def up_low(s):\n",
    "    dictionary={\"upper\":0, \"lower\":0}\n",
    "    for char in s:\n",
    "        if char.isupper():\n",
    "            dictionary[\"upper\"]+=1\n",
    "        elif char.islower():\n",
    "            dictionary[\"lower\"]+=1\n",
    "        else:\n",
    "            pass\n",
    "    print(\"Original String : \", s)\n",
    "    print(\"No. of Upper case characters : \", dictionary[\"upper\"])\n",
    "    print(\"No. of Lower case characters : \", dictionary[\"lower\"])\n",
    "    \n",
    "up_low(\"Hello Mr. Rogers, how are you this fine Tuesday?\")\n",
    "up_low(\"I am fine, thank you!\")\n",
    "up_low(\"I am fine, thank you! 123\")"
   ]
  }
 ],
 "metadata": {
  "kernelspec": {
   "display_name": ".venv",
   "language": "python",
   "name": "python3"
  },
  "language_info": {
   "codemirror_mode": {
    "name": "ipython",
    "version": 3
   },
   "file_extension": ".py",
   "mimetype": "text/x-python",
   "name": "python",
   "nbconvert_exporter": "python",
   "pygments_lexer": "ipython3",
   "version": "3.12.9"
  }
 },
 "nbformat": 4,
 "nbformat_minor": 2
}
