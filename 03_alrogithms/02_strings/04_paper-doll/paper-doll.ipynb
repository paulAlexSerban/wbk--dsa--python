{
 "cells": [
  {
   "cell_type": "markdown",
   "metadata": {},
   "source": [
    "# Paper Doll\n",
    "\n",
    "## Problem\n",
    "Given a string, return a string where for every character in the original three are three characters."
   ]
  },
  {
   "cell_type": "code",
   "execution_count": 1,
   "metadata": {},
   "outputs": [],
   "source": [
    "def paper_doll(text):\n",
    "    result = ''\n",
    "    for char in text:\n",
    "        result += char * 3\n",
    "    return result"
   ]
  },
  {
   "cell_type": "code",
   "execution_count": 2,
   "metadata": {},
   "outputs": [
    {
     "name": "stdout",
     "output_type": "stream",
     "text": [
      "HHHeeellllllooo\n",
      "MMMiiissssssiiissssssiiippppppiii\n",
      "PPPyyyttthhhooonnn\n",
      "PPPyyyttthhhooonnn333\n"
     ]
    }
   ],
   "source": [
    "# check\n",
    "print(paper_doll('Hello')) # 'HHHeeellllllooo'\n",
    "print(paper_doll('Mississippi')) # 'MMMiiissssssiiissssssiiippppppiii'\n",
    "print(paper_doll('Python')) # 'PPPyththhoonn'\n",
    "print(paper_doll('Python3')) # 'PPPy"
   ]
  }
 ],
 "metadata": {
  "kernelspec": {
   "display_name": ".venv",
   "language": "python",
   "name": "python3"
  },
  "language_info": {
   "codemirror_mode": {
    "name": "ipython",
    "version": 3
   },
   "file_extension": ".py",
   "mimetype": "text/x-python",
   "name": "python",
   "nbconvert_exporter": "python",
   "pygments_lexer": "ipython3",
   "version": "3.12.9"
  }
 },
 "nbformat": 4,
 "nbformat_minor": 2
}
