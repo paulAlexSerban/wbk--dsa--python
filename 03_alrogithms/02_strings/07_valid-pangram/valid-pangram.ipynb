{
 "cells": [
  {
   "cell_type": "markdown",
   "metadata": {},
   "source": [
    "# Valid Pangram\n",
    "\n",
    "## Problem\n",
    "A pangram is a sentence that contains every single letter of the alphabet at least once. For example, the sentence \"The quick brown fox jumps over the lazy dog\" is a pangram, because it uses the letters A-Z at least once (case is irrelevant)."
   ]
  },
  {
   "cell_type": "code",
   "execution_count": 2,
   "metadata": {},
   "outputs": [
    {
     "name": "stdout",
     "output_type": "stream",
     "text": [
      "True\n",
      "False\n",
      "True\n",
      "False\n",
      "True\n"
     ]
    }
   ],
   "source": [
    "import string\n",
    "\n",
    "def is_pangram(string, alphabet=string.ascii_lowercase):\n",
    "    alphaset = set(alphabet)\n",
    "    # remove spaces and convert to lowercase\n",
    "    string = string.replace(\" \", \"\").lower()\n",
    "    # grab all unique characters in the string\n",
    "    string = set(string)\n",
    "    return string == alphaset\n",
    "\n",
    "print(is_pangram(\"The quick brown fox jumps over the lazy dog\")) # True\n",
    "print(is_pangram(\"The quick brown fox jumps over the lazy cat\")) # False\n",
    "print(is_pangram(\"The quick brown fox jumps over the lazy dog\", \"abcdefghijklmnopqrstuvwxyz\")) # True\n",
    "print(is_pangram(\"The quick brown fox jumps over the lazy dog\", \"abcdefghijk\")) # False\n",
    "print(is_pangram(\"The quick brown fox jumps over the lazy dog\", \"abcdefghijklmnopqrstuvwxyz\")) # True"
   ]
  }
 ],
 "metadata": {
  "kernelspec": {
   "display_name": ".venv",
   "language": "python",
   "name": "python3"
  },
  "language_info": {
   "codemirror_mode": {
    "name": "ipython",
    "version": 3
   },
   "file_extension": ".py",
   "mimetype": "text/x-python",
   "name": "python",
   "nbconvert_exporter": "python",
   "pygments_lexer": "ipython3",
   "version": "3.12.9"
  }
 },
 "nbformat": 4,
 "nbformat_minor": 2
}
