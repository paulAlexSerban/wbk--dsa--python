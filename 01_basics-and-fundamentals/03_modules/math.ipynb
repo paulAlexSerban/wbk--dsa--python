{
 "cells": [
  {
   "cell_type": "markdown",
   "metadata": {},
   "source": [
    "# `math` module\n",
    "- `math` module provides mathematical functions and constants.\n",
    "- It is a built-in module, so you don't need to install it.\n",
    "- You can import it using `import math`.\n",
    "- You can access its functions and constants using `math.<function_name>` and `math.<constant_name>`."
   ]
  },
  {
   "cell_type": "code",
   "execution_count": null,
   "metadata": {},
   "outputs": [],
   "source": [
    "import math\n",
    "help(math)"
   ]
  },
  {
   "cell_type": "code",
   "execution_count": null,
   "metadata": {},
   "outputs": [],
   "source": [
    "# floor - round down\n",
    "print(math.floor(32.3))\n",
    "print(math.floor(32.9))\n",
    "print(math.floor(-32.9))\n"
   ]
  },
  {
   "cell_type": "code",
   "execution_count": null,
   "metadata": {},
   "outputs": [],
   "source": [
    "# ceil - round up\n",
    "print(math.ceil(32.3))\n",
    "print(math.ceil(32.9))\n",
    "print(math.ceil(-32.9))"
   ]
  },
  {
   "cell_type": "code",
   "execution_count": null,
   "metadata": {},
   "outputs": [],
   "source": [
    "# round - round to nearest\n",
    "print(round(32.3))\n",
    "print(round(32.9))\n",
    "print(round(-32.9))\n"
   ]
  },
  {
   "cell_type": "code",
   "execution_count": null,
   "metadata": {},
   "outputs": [],
   "source": [
    "# math constants\n",
    "print(math.pi)\n",
    "print(math.e)\n",
    "print(math.tau)\n",
    "print(math.inf)\n",
    "print(math.nan)"
   ]
  },
  {
   "cell_type": "code",
   "execution_count": null,
   "metadata": {},
   "outputs": [],
   "source": [
    "# sin, cos, tan\n",
    "print(math.sin(math.pi/2))\n",
    "print(math.cos(math.pi))\n",
    "print(math.tan(math.pi/4))\n",
    "print(math.degrees(math.pi/2))\n",
    "print(math.radians(90))"
   ]
  }
 ],
 "metadata": {
  "kernelspec": {
   "display_name": ".venv",
   "language": "python",
   "name": "python3"
  },
  "language_info": {
   "codemirror_mode": {
    "name": "ipython",
    "version": 3
   },
   "file_extension": ".py",
   "mimetype": "text/x-python",
   "name": "python",
   "nbconvert_exporter": "python",
   "pygments_lexer": "ipython3",
   "version": "3.12.9"
  }
 },
 "nbformat": 4,
 "nbformat_minor": 2
}
