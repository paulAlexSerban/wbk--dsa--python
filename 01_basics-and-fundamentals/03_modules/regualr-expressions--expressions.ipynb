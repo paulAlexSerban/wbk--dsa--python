{
 "cells": [
  {
   "cell_type": "markdown",
   "metadata": {},
   "source": [
    "# Regular Expression Patterns\n",
    "\n",
    "- Regular expressions are a powerful tool for various kinds of string manipulation.\n",
    "- They are a domain specific language (DSL) that is present in many programming languages.\n",
    "\n",
    "| character | description           | example pattern code | example match                  |\n",
    "| --------- | --------------------- | -------------------- | ------------------------------ |\n",
    "| \\d        | a digit               | file\\_\\d\\d           | file_25                        |\n",
    "| \\w        | a word                | \\w\\w\\w\\w\\w           | hello                          |\n",
    "| \\s        | a space               | \\w\\s\\w\\s\\w           | a b c                          |\n",
    "| .         | any character         | a.b.c                | aabbc                          |\n",
    "| \\D        | a non-digit           | \\D\\D\\D\\D             | abcd                           |\n",
    "| \\W        | a non-word            | \\W\\W\\W\\W\\W           | !@#$%                          |\n",
    "| \\S        | a non-space           | \\S\\S\\S\\S             | abcd                           |\n",
    "| ^         | start of string       | ^\\w\\w\\w              | abc                            |\n",
    "| $         | end of string         | \\w\\w\\w$              | abc                            |\n",
    "| \\b        | word boundary         | \\b\\w\\w\\w\\b           | abc                            |\n",
    "| \\B        | non-word boundary     | \\B\\w\\w\\w\\B           | aabc                           |\n",
    "| [abc]     | any of a, b, or c     | [abc][abc]           | aa or bb or cc                 |\n",
    "| [^abc]    | not a, b, or c        | [^abc][^abc]         | dd or ee or ff                 |\n",
    "| [a-z]     | characters a to z     | [a-z][a-z]           | aa or bb or cc                 |\n",
    "| [^a-z]    | not characters a to z | [^a-z][^a-z]         | AA or BB or CC                 |\n",
    "| [0-9]     | numbers 0 to 9        | [0-9][0-9]           | 11 or 22 or 33                 |\n",
    "| [^0-9]    | not numbers 0 to 9    | [^0-9][^0-9]         | AA or BB or CC                 |\n",
    "| (abc)     | capture group         | (\\d\\d)               | 12                             |\n",
    "| (?:abc)   | non-capture group     | (?:\\d\\d)             | 12                             |\n",
    "| a\\|b      | a or b                | (a\\|b)(a\\|b)         | aa or ab or ba or bb           |\n",
    "| a?        | zero or one of a      | \\d\\d?                | 12 or 1                        |\n",
    "| a\\*       | zero or more of a     | \\d\\d\\*               | 12 or 123                      |\n",
    "| a+        | one or more of a      | \\d\\d+                | 12 or 123                      |\n",
    "| a{3}      | exactly 3 of a        | \\d{3}                | 123                            |\n",
    "| a{3,}     | 3 or more of a        | \\d{3,}               | 123 or 1234                    |\n",
    "| a{3,6}    | between 3 and 6 of a  | \\d{3,6}              | 123 or 1234 or 12345 or 123456 |\n",
    "| (?=abc)   | positive lookahead    | \\w(?=o)              | g in good                      |\n",
    "| (?!abc)   | negative lookahead    | \\w(?!o)              | g in gold                      |\n",
    "| (?<=abc)  | positive lookbehind   | (?<=o)\\w             | g in gold                      |\n",
    "| (?<!abc)  | negative lookbehind   | (?<!o)\\w             | g in good                      |\n"
   ]
  },
  {
   "cell_type": "code",
   "execution_count": null,
   "metadata": {},
   "outputs": [],
   "source": [
    "import re\n",
    "text = \"my phone number is 123-456-7890\"\n",
    "phone = re.search(r'\\d{3}-\\d{3}-\\d{4}', text)\n",
    "print(phone)\n",
    "print(phone.group())"
   ]
  },
  {
   "cell_type": "code",
   "execution_count": null,
   "metadata": {},
   "outputs": [],
   "source": [
    "# compile - to reuse the pattern\n",
    "phone_pattern = re.compile(r'(\\d{3})-(\\d{3})-(\\d{4})')\n",
    "\n",
    "results = re.search(phone_pattern, text)\n",
    "print(results.group())\n",
    "print(results.group(1))\n",
    "print(results.group(2))"
   ]
  },
  {
   "cell_type": "code",
   "execution_count": null,
   "metadata": {},
   "outputs": [],
   "source": [
    "cat_text = \"The cat in the hat sat flat\"\n",
    "print(re.search(r'cat|dog', cat_text))\n",
    "print(re.findall(r'cat|dog', cat_text))\n",
    "\n"
   ]
  },
  {
   "cell_type": "code",
   "execution_count": null,
   "metadata": {},
   "outputs": [],
   "source": [
    "phrase = \"there are 3 numbers 34 inside 5 this sentence\"\n",
    "print(re.findall(r'[^\\d]+', phrase)) # exclude digits\n"
   ]
  },
  {
   "cell_type": "code",
   "execution_count": null,
   "metadata": {},
   "outputs": [],
   "source": [
    "test_phrase = \"This is a string! But it has punctuation. How can we remove it?\"\n",
    "print(re.findall(r'[^!.? ]+', test_phrase)) # exclude punctuation"
   ]
  },
  {
   "cell_type": "code",
   "execution_count": null,
   "metadata": {},
   "outputs": [],
   "source": [
    "text = 'only find the hypen-words in this sentence. But you do not know how long-ish they are'\n",
    "print(re.findall(r'[\\w]+-[\\w]+', text)) # find words with hyphen"
   ]
  }
 ],
 "metadata": {
  "kernelspec": {
   "display_name": ".venv",
   "language": "python",
   "name": "python3"
  },
  "language_info": {
   "codemirror_mode": {
    "name": "ipython",
    "version": 3
   },
   "file_extension": ".py",
   "mimetype": "text/x-python",
   "name": "python",
   "nbconvert_exporter": "python",
   "pygments_lexer": "ipython3",
   "version": "3.12.9"
  }
 },
 "nbformat": 4,
 "nbformat_minor": 2
}
