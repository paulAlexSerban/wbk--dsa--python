{
 "cells": [
  {
   "cell_type": "markdown",
   "metadata": {},
   "source": [
    "# `random` module\n",
    "- `random` module is used to generate random numbers.\n",
    "- `random` module has many functions to generate random numbers.\n",
    "- `random` module has a function `random()` which generates a random float number between 0 and 1.\n",
    "- `random` module has a function `randint(a, b)` which generates a random integer number between `a` and `b` (inclusive).\n",
    "- `random` module has a function `choice(seq)` which returns a random element from the non-empty sequence `seq`.\n",
    "- `random` module has a function `shuffle(seq)` which shuffles the sequence `seq` in place.\n",
    "- `random` module has a function `sample(seq, k)` which returns a list of `k` random elements from the non-empty sequence `seq` without repeating any element."
   ]
  },
  {
   "cell_type": "code",
   "execution_count": null,
   "metadata": {},
   "outputs": [],
   "source": [
    "import random\n",
    "\n",
    "random_int = random.randint(1, 100)\n",
    "print(random_int)"
   ]
  },
  {
   "cell_type": "code",
   "execution_count": null,
   "metadata": {},
   "outputs": [],
   "source": [
    "# random.seed(101)\n",
    "random_int = random.randint(1, 100)\n",
    "print(random_int)"
   ]
  },
  {
   "cell_type": "code",
   "execution_count": null,
   "metadata": {},
   "outputs": [],
   "source": [
    "random_int = random.randint(1, 100)\n",
    "print(random_int)"
   ]
  },
  {
   "cell_type": "code",
   "execution_count": null,
   "metadata": {},
   "outputs": [],
   "source": [
    "random_int = random.randint(1, 100)\n",
    "print(random_int)"
   ]
  },
  {
   "cell_type": "code",
   "execution_count": null,
   "metadata": {},
   "outputs": [],
   "source": [
    "# random.seed(101)\n",
    "print(random.randint(1, 100)) # 75\n",
    "print(random.randint(1, 100)) # 25\n",
    "print(random.randint(1, 100)) # 70\n",
    "print(random.randint(1, 100)) # 46\n",
    "print(random.randint(1, 100)) # 60\n",
    "print(random.randint(1, 100)) # 7"
   ]
  },
  {
   "cell_type": "code",
   "execution_count": null,
   "metadata": {},
   "outputs": [],
   "source": [
    "# random.seed(1000)\n",
    "list_of_numbers = list(range(1, 100))\n",
    "print(list_of_numbers)\n",
    "random.choice(list_of_numbers)"
   ]
  },
  {
   "cell_type": "code",
   "execution_count": null,
   "metadata": {},
   "outputs": [],
   "source": [
    "multiple_random_ints = random.sample(list_of_numbers, 5)\n",
    "print(multiple_random_ints)"
   ]
  },
  {
   "cell_type": "code",
   "execution_count": null,
   "metadata": {},
   "outputs": [],
   "source": [
    "# sample with replacement\n",
    "multiple_random_ints = random.choices(list_of_numbers, k=10)\n",
    "print(multiple_random_ints)"
   ]
  },
  {
   "cell_type": "code",
   "execution_count": null,
   "metadata": {},
   "outputs": [],
   "source": [
    "# shuffle\n",
    "random.shuffle(list_of_numbers)\n",
    "print(list_of_numbers)"
   ]
  },
  {
   "cell_type": "code",
   "execution_count": null,
   "metadata": {},
   "outputs": [],
   "source": [
    "# uniform - random float\n",
    "random_float = random.uniform(1, 100)\n",
    "print(random_float)\n",
    "random_float = random.uniform(1, 100)\n",
    "print(random_float)"
   ]
  },
  {
   "cell_type": "code",
   "execution_count": null,
   "metadata": {},
   "outputs": [],
   "source": [
    "# gauss - random float with normal distribution\n",
    "random_float = random.gauss(mu=0, sigma=100)\n",
    "print(random_float)"
   ]
  }
 ],
 "metadata": {
  "kernelspec": {
   "display_name": ".venv",
   "language": "python",
   "name": "python3"
  },
  "language_info": {
   "codemirror_mode": {
    "name": "ipython",
    "version": 3
   },
   "file_extension": ".py",
   "mimetype": "text/x-python",
   "name": "python",
   "nbconvert_exporter": "python",
   "pygments_lexer": "ipython3",
   "version": "3.12.9"
  }
 },
 "nbformat": 4,
 "nbformat_minor": 2
}
