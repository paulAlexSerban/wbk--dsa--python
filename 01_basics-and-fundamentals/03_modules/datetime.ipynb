{
 "cells": [
  {
   "cell_type": "markdown",
   "metadata": {},
   "source": [
    "# `datetime` module\n",
    "- `datetime` module in Python provides classes for manipulating dates and times.\n",
    "- `datetime` module has classes for date, time, date and time, and time delta.\n",
    "- `datetime` module also provides classes for working with time zones.\n",
    "- `datetime` module is part of the Python standard library.\n",
    "- `datetime` module is used to work with dates and times in Python."
   ]
  },
  {
   "cell_type": "code",
   "execution_count": null,
   "metadata": {},
   "outputs": [],
   "source": [
    "import datetime\n",
    "\n",
    "my_time = datetime.time(2, 20, 1, 20)\n",
    "print(my_time)\n",
    "\n",
    "print(f\"{my_time.hour} hours\")\n",
    "print(f\"{my_time.minute} minutes\")\n",
    "print(f\"{my_time.second} seconds\")\n",
    "print(f\"{my_time.microsecond} microseconds\")\n",
    "print(f\"{my_time.tzinfo} timezone\")"
   ]
  },
  {
   "cell_type": "code",
   "execution_count": null,
   "metadata": {},
   "outputs": [],
   "source": [
    "today = datetime.date.today()\n",
    "print(today)\n",
    "\n",
    "print(f\"{today.year} year\")\n",
    "print(f\"{today.month} month\")\n",
    "print(f\"{today.day} day\")\n"
   ]
  },
  {
   "cell_type": "code",
   "execution_count": null,
   "metadata": {},
   "outputs": [],
   "source": [
    "date_time_one = datetime.datetime(2021, 11, 3, 22, 0)\n",
    "date_time_two = datetime.datetime(2020, 11, 3, 12, 0)\n",
    "\n",
    "datetime.timedelta(days=365, seconds=3600)\n",
    "\n",
    "result = date_time_one - date_time_two\n",
    "print(f\"{result} days\")\n",
    "print(f\"{result.seconds} seconds\")\n"
   ]
  },
  {
   "cell_type": "code",
   "execution_count": null,
   "metadata": {},
   "outputs": [],
   "source": [
    "from datetime import datetime"
   ]
  },
  {
   "cell_type": "code",
   "execution_count": null,
   "metadata": {},
   "outputs": [],
   "source": [
    "my_datetime = datetime(2021, 10, 3, 14, 20, 1, 20)\n",
    "print(my_datetime)"
   ]
  },
  {
   "cell_type": "code",
   "execution_count": null,
   "metadata": {},
   "outputs": [],
   "source": [
    "my_correct_datetime = my_datetime.replace(year=2025)\n",
    "print(my_correct_datetime)"
   ]
  },
  {
   "cell_type": "code",
   "execution_count": null,
   "metadata": {},
   "outputs": [],
   "source": [
    "from datetime import date"
   ]
  },
  {
   "cell_type": "code",
   "execution_count": null,
   "metadata": {},
   "outputs": [],
   "source": [
    "date_one = date(2021, 11, 3)\n",
    "date_two = date(2020, 11, 3)\n",
    "\n",
    "# can perform direct arithmetic operations on date objects\n",
    "result = date_one - date_two\n",
    "print(f\"{result} days\")"
   ]
  }
 ],
 "metadata": {
  "kernelspec": {
   "display_name": ".venv",
   "language": "python",
   "name": "python3"
  },
  "language_info": {
   "codemirror_mode": {
    "name": "ipython",
    "version": 3
   },
   "file_extension": ".py",
   "mimetype": "text/x-python",
   "name": "python",
   "nbconvert_exporter": "python",
   "pygments_lexer": "ipython3",
   "version": "3.12.9"
  }
 },
 "nbformat": 4,
 "nbformat_minor": 2
}
