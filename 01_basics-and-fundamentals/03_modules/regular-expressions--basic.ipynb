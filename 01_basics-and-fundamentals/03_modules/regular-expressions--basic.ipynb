{
 "cells": [
  {
   "cell_type": "markdown",
   "metadata": {},
   "source": [
    "# Regular Expressions\n",
    "- Regular expressions are a powerful tool for various kinds of string manipulation."
   ]
  },
  {
   "cell_type": "code",
   "execution_count": null,
   "metadata": {},
   "outputs": [],
   "source": [
    "text = \"The quick brown fox jumps over the lazy dog. And the dog is not happy about it. But the fox is happy.\""
   ]
  },
  {
   "cell_type": "code",
   "execution_count": null,
   "metadata": {},
   "outputs": [],
   "source": [
    "# re - regular expressions\n",
    "import re"
   ]
  },
  {
   "cell_type": "code",
   "execution_count": null,
   "metadata": {},
   "outputs": [],
   "source": [
    "pattern = 'fox'\n",
    "\n",
    "match = re.search(pattern, text) # returns a match object\n",
    "print (match) # <re.Match object; span=(16, 19), match='fox'>\n",
    "pattern_not_in_text = 'cat'\n",
    "# match = re.search(pattern_not_in_text, text) # returns None\n",
    "# print (match) # None"
   ]
  },
  {
   "cell_type": "code",
   "execution_count": null,
   "metadata": {},
   "outputs": [],
   "source": [
    "# span\n",
    "print(match.span()) # (16, 19)\n",
    "\n",
    "# start\n",
    "print(match.start()) # 16\n",
    "\n",
    "# end\n",
    "print(match.end()) # 19"
   ]
  },
  {
   "cell_type": "code",
   "execution_count": null,
   "metadata": {},
   "outputs": [],
   "source": [
    "matches = re.findall(pattern, text)\n",
    "print(matches) # ['fox', 'fox']"
   ]
  },
  {
   "cell_type": "code",
   "execution_count": null,
   "metadata": {},
   "outputs": [],
   "source": [
    "# iterate over matches and print their spans\n",
    "for match in re.finditer(pattern, text):\n",
    "    print(match.span())"
   ]
  }
 ],
 "metadata": {
  "kernelspec": {
   "display_name": ".venv",
   "language": "python",
   "name": "python3"
  },
  "language_info": {
   "codemirror_mode": {
    "name": "ipython",
    "version": 3
   },
   "file_extension": ".py",
   "mimetype": "text/x-python",
   "name": "python",
   "nbconvert_exporter": "python",
   "pygments_lexer": "ipython3",
   "version": "3.12.9"
  }
 },
 "nbformat": 4,
 "nbformat_minor": 2
}
