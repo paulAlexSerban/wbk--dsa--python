{
 "cells": [
  {
   "cell_type": "markdown",
   "metadata": {},
   "source": [
    "# `zipfile` module\n",
    "- `zipfile` module is used to read and write ZIP archive files.\n",
    "- It provides tools for working with compressed files and archives.\n",
    "- It is available in Python standard library.\n",
    "- It supports various compression and encryption methods.\n",
    "- It can be used to extract, create, and modify ZIP files."
   ]
  },
  {
   "cell_type": "code",
   "execution_count": null,
   "metadata": {},
   "outputs": [],
   "source": [
    "# make dist directory\n",
    "import os\n",
    "import shutil\n",
    "\n",
    "if os.path.exists('dist'):\n",
    "    shutil.rmtree('dist')\n",
    "os.mkdir('dist')\n"
   ]
  },
  {
   "cell_type": "code",
   "execution_count": null,
   "metadata": {},
   "outputs": [],
   "source": [
    "f = open('./dist/fileone.txt', 'w+')\n",
    "for i in range(10):\n",
    "    f.write('line %d\\n' % i)\n",
    "    for j in range(10):\n",
    "        f.write('subline %d\\n' % j)\n",
    "f.close()\n",
    "\n",
    "f = open('./dist/filetwo.txt', 'w+')\n",
    "for i in range(10):\n",
    "    f.write('line %d\\n' % i)\n",
    "    for j in range(10):\n",
    "        f.write('subline %d\\n' % j)\n",
    "f.close()"
   ]
  },
  {
   "cell_type": "code",
   "execution_count": null,
   "metadata": {},
   "outputs": [],
   "source": [
    "import zipfile\n",
    "comp_file = zipfile.ZipFile('./dist/comp_file.zip', 'w') # create a zip file\n",
    "comp_file.write('./dist/fileone.txt', compress_type=zipfile.ZIP_DEFLATED) # add fileone.txt to zip file\n",
    "comp_file.write('./dist/filetwo.txt', compress_type=zipfile.ZIP_DEFLATED) # add filetwo.txt to zip file\n",
    "comp_file.close()"
   ]
  },
  {
   "cell_type": "code",
   "execution_count": null,
   "metadata": {},
   "outputs": [],
   "source": [
    "zip_file = zipfile.ZipFile('./dist/comp_file.zip', 'r')\n",
    "zip_file.extractall('./dist/extracted')\n",
    "zip_file.close()"
   ]
  },
  {
   "cell_type": "code",
   "execution_count": null,
   "metadata": {},
   "outputs": [],
   "source": [
    "dir_to_zip = './dist/extracted'\n",
    "output_filename = 'example'\n",
    "shutil.make_archive(output_filename, 'zip', dir_to_zip)\n",
    "shutil.move('%s.zip' % output_filename, './dist/%s.zip' % output_filename)\n",
    "shutil.rmtree(dir_to_zip)"
   ]
  },
  {
   "cell_type": "code",
   "execution_count": null,
   "metadata": {},
   "outputs": [],
   "source": [
    "# unpack\n",
    "shutil.unpack_archive('./dist/example.zip', './dist/unpacked_example', 'zip')\n"
   ]
  }
 ],
 "metadata": {
  "kernelspec": {
   "display_name": ".venv",
   "language": "python",
   "name": "python3"
  },
  "language_info": {
   "codemirror_mode": {
    "name": "ipython",
    "version": 3
   },
   "file_extension": ".py",
   "mimetype": "text/x-python",
   "name": "python",
   "nbconvert_exporter": "python",
   "pygments_lexer": "ipython3",
   "version": "3.12.9"
  }
 },
 "nbformat": 4,
 "nbformat_minor": 2
}
