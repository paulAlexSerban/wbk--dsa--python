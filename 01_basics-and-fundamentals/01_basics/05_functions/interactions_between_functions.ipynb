{
 "cells": [
  {
   "cell_type": "markdown",
   "metadata": {},
   "source": [
    "# Interaction between functions in Python\n",
    "> Example with Three Cup Monte"
   ]
  },
  {
   "cell_type": "code",
   "execution_count": null,
   "metadata": {},
   "outputs": [],
   "source": [
    "from random import shuffle\n",
    "def shuffle_list(mylist):\n",
    "    shuffle(mylist)\n",
    "    return mylist\n",
    "\n",
    "def player_guess():\n",
    "    guess = ''\n",
    "    while guess not in ['0', '1', '2']:\n",
    "        guess = input(\"Pick a number: 0, 1, or 2: \")\n",
    "    return int(guess)\n",
    "\n",
    "def check_guess(my_list, guess):\n",
    "    if my_list[guess] == 'O':\n",
    "        print(\"Correct!\")\n",
    "    else:\n",
    "        print(\"Wrong guess!\")\n",
    "        print(my_list)\n",
    "        \n",
    "# Initial list\n",
    "my_list = [' ', 'O', ' ']\n",
    "\n",
    "# Shuffle list\n",
    "mixed_list = shuffle_list(my_list)\n",
    "\n",
    "# User guess\n",
    "guess = player_guess()\n",
    "\n",
    "# Check guess\n",
    "check_guess(mixed_list, guess)"
   ]
  }
 ],
 "metadata": {
  "kernelspec": {
   "display_name": ".venv",
   "language": "python",
   "name": "python3"
  },
  "language_info": {
   "codemirror_mode": {
    "name": "ipython",
    "version": 3
   },
   "file_extension": ".py",
   "mimetype": "text/x-python",
   "name": "python",
   "nbconvert_exporter": "python",
   "pygments_lexer": "ipython3",
   "version": "3.12.9"
  }
 },
 "nbformat": 4,
 "nbformat_minor": 2
}
