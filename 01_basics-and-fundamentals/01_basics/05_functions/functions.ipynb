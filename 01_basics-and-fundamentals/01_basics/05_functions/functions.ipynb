{
 "cells": [
  {
   "cell_type": "markdown",
   "metadata": {},
   "source": [
    "# Functions"
   ]
  },
  {
   "cell_type": "code",
   "execution_count": null,
   "metadata": {},
   "outputs": [],
   "source": [
    "def say_hello(name = 'DEFAULT_VALUE'):\n",
    "    print(f\"Hello, {name}!\")\n",
    "say_hello('World')"
   ]
  },
  {
   "cell_type": "code",
   "execution_count": null,
   "metadata": {},
   "outputs": [],
   "source": [
    "def build_ferrari(color: str = \"red\"):\n",
    "    string = f\"Build a {color} Ferrari\"\n",
    "    return string\n",
    "\n",
    "# returning a value will allow you to store the value in a variable\n",
    "ferrari_var = build_ferrari()\n",
    "print(ferrari_var)"
   ]
  },
  {
   "cell_type": "code",
   "execution_count": null,
   "metadata": {},
   "outputs": [],
   "source": [
    "def greet(name: str):\n",
    "    string = f\"Hello {name}!\"\n",
    "    return string\n",
    "\n",
    "greet_var = greet(\"Guido\")\n",
    "print(greet_var)"
   ]
  },
  {
   "cell_type": "markdown",
   "metadata": {},
   "source": [
    "# Even Check"
   ]
  },
  {
   "cell_type": "code",
   "execution_count": null,
   "metadata": {},
   "outputs": [],
   "source": [
    "def even_check(number: int):\n",
    "    return number % 2 == 0\n",
    "\n",
    "print(even_check(20))\n",
    "print(even_check(21))"
   ]
  },
  {
   "cell_type": "code",
   "execution_count": null,
   "metadata": {},
   "outputs": [],
   "source": [
    "def check_event_list(num_list: list):\n",
    "    for number in num_list:\n",
    "        if even_check(number):\n",
    "            return True\n",
    "        else:\n",
    "            pass\n",
    "    return False\n",
    "\n",
    "print(check_event_list([1, 3, 5, 7, 9]))\n",
    "print(check_event_list([10, 30, 33, 57, 99]))"
   ]
  },
  {
   "cell_type": "markdown",
   "metadata": {},
   "source": [
    "# Calculate square area"
   ]
  },
  {
   "cell_type": "code",
   "execution_count": null,
   "metadata": {},
   "outputs": [],
   "source": [
    "def calculate_square_area(side: int = 1) -> int:\n",
    "    return side * side\n",
    "\n",
    "area = calculate_square_area(4)\n",
    "print(f\"The area of the square is {area}\")"
   ]
  },
  {
   "cell_type": "markdown",
   "metadata": {},
   "source": [
    "# Factorial (simple)"
   ]
  },
  {
   "cell_type": "code",
   "execution_count": null,
   "metadata": {},
   "outputs": [],
   "source": [
    "def factorial(n: int) -> int:\n",
    "    \"\"\"Return n! (0! is 1).\"\"\"\n",
    "    if n <= 1:\n",
    "        return 1\n",
    " \n",
    "    result = 2\n",
    "    for x in range(3, n + 1):\n",
    "        result *= x\n",
    " \n",
    "    return result\n",
    " \n",
    " \n",
    "for i in range(36):\n",
    "    print(i, factorial(i))"
   ]
  },
  {
   "cell_type": "markdown",
   "metadata": {},
   "source": [
    "## Factorial (recursive)"
   ]
  },
  {
   "cell_type": "code",
   "execution_count": null,
   "metadata": {},
   "outputs": [],
   "source": [
    "def factorial(n: int) -> int:\n",
    "    \"\"\"\n",
    "    Return n! (0! is 1).\n",
    " \n",
    "    Valid for `n` in the range 0 to 998 (inclusive).\n",
    "    Larger values of `n` will cause a RecursionError.\n",
    "    \"\"\"\n",
    "    if n <= 1:\n",
    "        return 1\n",
    " \n",
    "    return n * factorial(n - 1)\n",
    "\n",
    "\n",
    "for i in range(36):\n",
    "    print(i, factorial(i))\n"
   ]
  },
  {
   "cell_type": "markdown",
   "metadata": {},
   "source": [
    "# Sum numbers (built-in Python function)"
   ]
  },
  {
   "cell_type": "code",
   "execution_count": null,
   "metadata": {},
   "outputs": [],
   "source": [
    "def sum_numbers(*values: float) -> float:\n",
    "    \"\"\" calculates the sum of all the numbers passed as arguments \"\"\"\n",
    "    return sum(values)\n",
    "\n",
    "print(sum_numbers(1, 2, 3))\n",
    "print(sum_numbers(8, 20, 2))\n",
    "print(sum_numbers(12.5, 3.147, 98.1))\n",
    "print(sum_numbers(1.1, 2.2, 5.5))"
   ]
  },
  {
   "cell_type": "markdown",
   "metadata": {},
   "source": [
    "# Sum numbers (for loop)"
   ]
  },
  {
   "cell_type": "code",
   "execution_count": null,
   "metadata": {},
   "outputs": [],
   "source": [
    "def sum_numbers(*values: float) -> float:\n",
    "    \"\"\" calculates the sum of all the numbers passed as arguments \"\"\"\n",
    "    result = 0\n",
    "    for number in values:\n",
    "        result += number\n",
    "    return result\n",
    "\n",
    "\n",
    "print(sum_numbers(1, 2, 3))\n",
    "print(sum_numbers(8, 20, 2))\n",
    "print(sum_numbers(12.5, 3.147, 98.1))\n",
    "print(sum_numbers(1.1, 2.2, 5.5))\n"
   ]
  },
  {
   "cell_type": "code",
   "execution_count": null,
   "metadata": {},
   "outputs": [],
   "source": []
  }
 ],
 "metadata": {
  "kernelspec": {
   "display_name": ".venv",
   "language": "python",
   "name": "python3"
  },
  "language_info": {
   "codemirror_mode": {
    "name": "ipython",
    "version": 3
   },
   "file_extension": ".py",
   "mimetype": "text/x-python",
   "name": "python",
   "nbconvert_exporter": "python",
   "pygments_lexer": "ipython3",
   "version": "3.12.9"
  }
 },
 "nbformat": 4,
 "nbformat_minor": 2
}
