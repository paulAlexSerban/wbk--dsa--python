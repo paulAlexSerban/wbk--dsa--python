{
 "cells": [
  {
   "cell_type": "markdown",
   "metadata": {},
   "source": [
    "# Nested Statements and Scope\n",
    "\n",
    "## LEGB Rule:\n",
    "- L: Local — Names assigned in any way within a function (def or lambda), and not declared global in that function.\n",
    "- E: Enclosing function locals — Names in the local scope of any and all enclosing functions (def or lambda), from inner to outer.\n",
    "- G: Global (module) — Names assigned at the top-level of a module file, or declared global in a def within the file.\n",
    "- B: Built-in (Python) — Names preassigned in the built-in names module : open, range, SyntaxError,..."
   ]
  },
  {
   "cell_type": "code",
   "execution_count": null,
   "metadata": {},
   "outputs": [],
   "source": [
    "name = \"this is a globa string\"\n",
    "\n",
    "def greet():\n",
    "    name = \"Sammy\"\n",
    "    def hello():\n",
    "        print(\"Hello \"+name)\n",
    "    hello()\n",
    "    \n",
    "greet()\n",
    "print(name)"
   ]
  },
  {
   "cell_type": "code",
   "execution_count": null,
   "metadata": {},
   "outputs": [],
   "source": [
    "x = 50\n",
    "\n",
    "def func(x):\n",
    "    print(f'x is {x}')\n",
    "    \n",
    "    x = 1000\n",
    "    print(f'local x is {x}')\n",
    "    \n",
    "func(x)\n",
    "print(x)"
   ]
  },
  {
   "cell_type": "code",
   "execution_count": null,
   "metadata": {},
   "outputs": [],
   "source": [
    "y = 50\n",
    "\n",
    "def func_w_global():\n",
    "    global y\n",
    "    print(f'y is {y}')\n",
    "    \n",
    "    y = 1000\n",
    "    print(f'global y is {y}')\n",
    "    \n",
    "func_w_global()\n",
    "print(y)"
   ]
  }
 ],
 "metadata": {
  "kernelspec": {
   "display_name": ".venv",
   "language": "python",
   "name": "python3"
  },
  "language_info": {
   "codemirror_mode": {
    "name": "ipython",
    "version": 3
   },
   "file_extension": ".py",
   "mimetype": "text/x-python",
   "name": "python",
   "nbconvert_exporter": "python",
   "pygments_lexer": "ipython3",
   "version": "3.12.9"
  }
 },
 "nbformat": 4,
 "nbformat_minor": 2
}
