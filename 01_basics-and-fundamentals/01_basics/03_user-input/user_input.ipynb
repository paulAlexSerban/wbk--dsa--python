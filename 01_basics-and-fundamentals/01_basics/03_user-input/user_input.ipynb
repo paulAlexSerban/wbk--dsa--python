{
 "cells": [
  {
   "cell_type": "code",
   "execution_count": null,
   "metadata": {},
   "outputs": [],
   "source": [
    "from random import randint\n",
    "\n",
    "min_number = int(input(\"Enter the minimum number: \"))\n",
    "max_number = int(input(\"Enter the maximum number: \"))\n",
    "\n",
    "if(min_number > max_number):\n",
    "    print(\"Minimum number is greater than maximum number\")\n",
    "else:\n",
    "    rnd_number = randint(min_number, max_number)\n",
    "    print(f\"Random number between {min_number} and {max_number} is {rnd_number}\")\n"
   ]
  }
 ],
 "metadata": {
  "kernelspec": {
   "display_name": ".venv",
   "language": "python",
   "name": "python3"
  },
  "language_info": {
   "codemirror_mode": {
    "name": "ipython",
    "version": 3
   },
   "file_extension": ".py",
   "mimetype": "text/x-python",
   "name": "python",
   "nbconvert_exporter": "python",
   "pygments_lexer": "ipython3",
   "version": "3.12.9"
  }
 },
 "nbformat": 4,
 "nbformat_minor": 2
}
