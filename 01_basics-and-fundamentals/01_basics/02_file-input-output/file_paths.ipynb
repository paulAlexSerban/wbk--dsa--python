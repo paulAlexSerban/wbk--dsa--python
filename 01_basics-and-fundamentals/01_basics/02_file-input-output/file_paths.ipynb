{
 "cells": [
  {
   "cell_type": "markdown",
   "metadata": {},
   "source": [
    "# File Paths"
   ]
  },
  {
   "cell_type": "code",
   "execution_count": null,
   "metadata": {},
   "outputs": [],
   "source": [
    "import os"
   ]
  },
  {
   "cell_type": "code",
   "execution_count": null,
   "metadata": {},
   "outputs": [],
   "source": [
    "cwd = os.getcwd()\n",
    "print(f\"current working directory: {cwd}\")"
   ]
  },
  {
   "cell_type": "code",
   "execution_count": null,
   "metadata": {},
   "outputs": [],
   "source": [
    "# create new directory if it does not exist\n",
    "if not os.path.exists(\"dist\"):\n",
    "    os.mkdir(\"dist\")\n",
    "    print(f\"created new directory: {cwd}/dist\")\n",
    "else:\n",
    "    print(f\"directory already exists: {cwd}/dist\")"
   ]
  },
  {
   "cell_type": "code",
   "execution_count": null,
   "metadata": {},
   "outputs": [],
   "source": [
    "# list all files in the current directory\n",
    "files = os.listdir(cwd)\n",
    "print(f\"files in current directory: {files}\")"
   ]
  },
  {
   "cell_type": "code",
   "execution_count": null,
   "metadata": {},
   "outputs": [],
   "source": [
    "# joining paths\n",
    "dir_name = \"dist\"\n",
    "file_name = \"example.txt\"\n",
    "file_path = os.path.join(dir_name, file_name)\n",
    "file_path_w_cwd = os.path.join(os.getcwd(), dir_name, file_name)\n",
    "print(f\"joined path: {file_path}\")\n",
    "print(f\"joined path with cwd: {file_path_w_cwd}\")"
   ]
  },
  {
   "cell_type": "code",
   "execution_count": null,
   "metadata": {},
   "outputs": [],
   "source": [
    "# check if is file or directory\n",
    "print(f\"is file: {os.path.isfile(file_path)}\")\n",
    "print(f\"is directory: {os.path.isdir(file_path)}\")"
   ]
  },
  {
   "cell_type": "code",
   "execution_count": null,
   "metadata": {},
   "outputs": [],
   "source": [
    "# get the absolute path\n",
    "print(f\"absolute path: {os.path.abspath(file_path)}\")"
   ]
  }
 ],
 "metadata": {
  "kernelspec": {
   "display_name": ".venv",
   "language": "python",
   "name": "python3"
  },
  "language_info": {
   "codemirror_mode": {
    "name": "ipython",
    "version": 3
   },
   "file_extension": ".py",
   "mimetype": "text/x-python",
   "name": "python",
   "nbconvert_exporter": "python",
   "pygments_lexer": "ipython3",
   "version": "3.12.9"
  }
 },
 "nbformat": 4,
 "nbformat_minor": 2
}
