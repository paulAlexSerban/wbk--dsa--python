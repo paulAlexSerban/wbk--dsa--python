{
 "cells": [
  {
   "cell_type": "markdown",
   "metadata": {},
   "source": [
    "# Indexing and Slicing"
   ]
  },
  {
   "cell_type": "code",
   "execution_count": null,
   "metadata": {},
   "outputs": [],
   "source": [
    "len(\"Hello, World!\")"
   ]
  },
  {
   "cell_type": "code",
   "execution_count": null,
   "metadata": {},
   "outputs": [],
   "source": [
    "my_string = \"Hello, World!\"\n",
    "my_string[0]"
   ]
  },
  {
   "cell_type": "code",
   "execution_count": null,
   "metadata": {},
   "outputs": [],
   "source": [
    "my_long_string = \"This is a long string\"\n",
    "my_long_string[2:]"
   ]
  },
  {
   "cell_type": "code",
   "execution_count": null,
   "metadata": {},
   "outputs": [],
   "source": [
    "my_long_string = \"This is a long string\"\n",
    "my_long_string[2:10]"
   ]
  },
  {
   "cell_type": "code",
   "execution_count": null,
   "metadata": {},
   "outputs": [],
   "source": [
    "my_long_string = \"This is a long string\"\n",
    "my_long_string[::2]"
   ]
  },
  {
   "cell_type": "code",
   "execution_count": null,
   "metadata": {},
   "outputs": [],
   "source": [
    "my_long_string = \"This is a long string\"\n",
    "my_long_string[2:7:2]"
   ]
  },
  {
   "cell_type": "markdown",
   "metadata": {},
   "source": [
    "# Reverse a string"
   ]
  },
  {
   "cell_type": "code",
   "execution_count": null,
   "metadata": {},
   "outputs": [],
   "source": [
    "my_long_string = \"This is a long string\"\n",
    "my_long_string[::-1]"
   ]
  },
  {
   "cell_type": "markdown",
   "metadata": {},
   "source": [
    "# String Formatting"
   ]
  },
  {
   "cell_type": "code",
   "execution_count": null,
   "metadata": {},
   "outputs": [],
   "source": [
    "str = 'Hello World!'\n",
    "\n",
    "print (str)          # Prints complete string\n",
    "print (str[0])       # Prints first character of the string\n",
    "print (str[2:5])     # Prints characters starting from 3rd to 5th\n",
    "print (str[2:])      # Prints string starting from 3rd character\n",
    "print (str * 2)      # Prints string two times\n",
    "print (str + \"TEST\") # Prints concatenated string\n"
   ]
  },
  {
   "cell_type": "code",
   "execution_count": null,
   "metadata": {},
   "outputs": [],
   "source": [
    "#####################\n",
    "# string formatting from python 3.6 onwards using f-strings\n",
    "#####################\n",
    "partOne = \"Stay hungry\"\n",
    "partTwo = \"Stay foolish\"\n",
    "quote = f\"{partOne} {partTwo}\"\n",
    "print(quote)"
   ]
  },
  {
   "cell_type": "code",
   "execution_count": null,
   "metadata": {},
   "outputs": [],
   "source": [
    "name = \"Paul\"\n",
    "age = \"31\"\n",
    "message = f\"Your name is {name} and your age is {age}\"\n",
    "print(message)"
   ]
  },
  {
   "cell_type": "code",
   "execution_count": null,
   "metadata": {},
   "outputs": [],
   "source": [
    "car = \"tesla Roadster\"\n",
    "acceleration = 1.9\n",
    "newMessage = f\"The {car} goes 0-60 mph in {acceleration} seconds\"\n",
    "print(newMessage)"
   ]
  },
  {
   "cell_type": "code",
   "execution_count": null,
   "metadata": {},
   "outputs": [],
   "source": [
    "string_length = len(newMessage)\n",
    "print(string_length)"
   ]
  },
  {
   "cell_type": "code",
   "execution_count": null,
   "metadata": {},
   "outputs": [],
   "source": [
    "uppercase_message = newMessage.upper()\n",
    "print(uppercase_message)"
   ]
  },
  {
   "cell_type": "code",
   "execution_count": null,
   "metadata": {},
   "outputs": [],
   "source": [
    "lowercase_message = newMessage.lower()\n",
    "print(lowercase_message)"
   ]
  },
  {
   "cell_type": "code",
   "execution_count": null,
   "metadata": {},
   "outputs": [],
   "source": [
    "#####################\n",
    "# string formatting from python 3.5 onwards using .format()\n",
    "#####################\n",
    "# default (implicit) order\n",
    "default_order = \"{}, {} and {}\"\n",
    "with_order = default_order.format('John','Bill','Sean')\n",
    "print(\"\\n--- Default Order ---\")\n",
    "print(default_order)\n",
    "print(with_order)"
   ]
  },
  {
   "cell_type": "code",
   "execution_count": null,
   "metadata": {},
   "outputs": [],
   "source": [
    "# order using positional argument\n",
    "positional_order = \"{1}, {0} and {2}\"\n",
    "with_order = positional_order.format('John','Bill','Sean')\n",
    "print(\"\\n--- Positional Order ---\")\n",
    "print(positional_order)\n",
    "print(with_order)"
   ]
  },
  {
   "cell_type": "code",
   "execution_count": null,
   "metadata": {},
   "outputs": [],
   "source": [
    "# order using keyword argument\n",
    "keyword_order = \"{s}, {b} and {j}\"\n",
    "with_order = keyword_order.format(j='John',b='Bill',s='Sean')\n",
    "print(\"\\n--- Keyword Order ---\")\n",
    "print(keyword_order)\n",
    "print(with_order)"
   ]
  },
  {
   "cell_type": "code",
   "execution_count": null,
   "metadata": {},
   "outputs": [],
   "source": [
    "# string formatting from python 2.6 onwards using %\n",
    "x = 10\n",
    "y = 20\n",
    "print(\"\\n--- Python 2.6 onwards ---\")\n",
    "print(\"The value of x is %d and y is %d\" % (x,y))"
   ]
  }
 ],
 "metadata": {
  "kernelspec": {
   "display_name": ".venv",
   "language": "python",
   "name": "python3"
  },
  "language_info": {
   "codemirror_mode": {
    "name": "ipython",
    "version": 3
   },
   "file_extension": ".py",
   "mimetype": "text/x-python",
   "name": "python",
   "nbconvert_exporter": "python",
   "pygments_lexer": "ipython3",
   "version": "3.12.4"
  }
 },
 "nbformat": 4,
 "nbformat_minor": 2
}
