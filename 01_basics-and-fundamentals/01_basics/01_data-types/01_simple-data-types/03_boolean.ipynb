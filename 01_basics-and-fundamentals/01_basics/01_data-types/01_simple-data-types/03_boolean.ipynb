{
 "cells": [
  {
   "cell_type": "code",
   "execution_count": 2,
   "metadata": {},
   "outputs": [],
   "source": [
    "is_empty = True\n",
    "if_hidden = False"
   ]
  },
  {
   "cell_type": "code",
   "execution_count": 3,
   "metadata": {},
   "outputs": [
    {
     "name": "stdout",
     "output_type": "stream",
     "text": [
      "False\n"
     ]
    }
   ],
   "source": [
    "is_bigger = 10 > 20\n",
    "print(is_bigger)\n"
   ]
  },
  {
   "cell_type": "code",
   "execution_count": 4,
   "metadata": {},
   "outputs": [
    {
     "name": "stdout",
     "output_type": "stream",
     "text": [
      "True\n",
      "False\n",
      "False\n",
      "True\n",
      "True\n",
      "False\n"
     ]
    }
   ],
   "source": [
    "print(5 == 5) # is 5 equal to 5? True\n",
    "print(5 == 10) # is 5 equal to 10? False\n",
    "print(5 > 10) # is 5 greater than 10? False\n",
    "print(5 != 10) # is 5 not equal to 10? True\n",
    "print(5 <= 10) # is 5 less than or equal to 10? True\n",
    "print(5 >= 10) # is 5 greater than or equal to 10? False"
   ]
  },
  {
   "cell_type": "code",
   "execution_count": 5,
   "metadata": {},
   "outputs": [
    {
     "name": "stdout",
     "output_type": "stream",
     "text": [
      "True\n",
      "False\n"
     ]
    }
   ],
   "source": [
    "friends = [\"Rolf\", \"Bob\"]\n",
    "abroad = [\"Rolf\", \"Bob\"]\n",
    "print(friends == abroad) # True because the values are the same\n",
    "print(friends is abroad) # False because they're not the same object"
   ]
  },
  {
   "cell_type": "code",
   "execution_count": 6,
   "metadata": {},
   "outputs": [
    {
     "name": "stdout",
     "output_type": "stream",
     "text": [
      "True\n"
     ]
    }
   ],
   "source": [
    "abroad = friends\n",
    "print(friends is abroad) # True because they're the same object"
   ]
  }
 ],
 "metadata": {
  "kernelspec": {
   "display_name": ".venv",
   "language": "python",
   "name": "python3"
  },
  "language_info": {
   "codemirror_mode": {
    "name": "ipython",
    "version": 3
   },
   "file_extension": ".py",
   "mimetype": "text/x-python",
   "name": "python",
   "nbconvert_exporter": "python",
   "pygments_lexer": "ipython3",
   "version": "3.12.4"
  }
 },
 "nbformat": 4,
 "nbformat_minor": 2
}
