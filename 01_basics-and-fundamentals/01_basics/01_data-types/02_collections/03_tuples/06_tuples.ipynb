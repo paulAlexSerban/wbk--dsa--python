{
 "cells": [
  {
   "cell_type": "markdown",
   "metadata": {},
   "source": [
    "# Tuples in Python\n",
    "- similar to lists but immutable\n",
    "- immutable means you can't change the values of the elements in the tuple\n",
    "- tuples are defined using parentheses `()`"
   ]
  },
  {
   "cell_type": "code",
   "execution_count": null,
   "metadata": {},
   "outputs": [],
   "source": [
    "first_tuple = (1, 2, 3, 4, 5)\n",
    "print(first_tuple)\n",
    "print(first_tuple[0])\n",
    "print(type(first_tuple))"
   ]
  },
  {
   "cell_type": "code",
   "execution_count": null,
   "metadata": {},
   "outputs": [],
   "source": [
    "len(first_tuple)"
   ]
  },
  {
   "cell_type": "code",
   "execution_count": null,
   "metadata": {},
   "outputs": [],
   "source": [
    "tuple_with_duplicates = (1, 2, 3, 1, 2, 3)\n",
    "print(tuple_with_duplicates)\n",
    "print(tuple_with_duplicates.count(1))"
   ]
  },
  {
   "cell_type": "markdown",
   "metadata": {},
   "source": [
    "# Tuples examples from \"The Complete Python Bootcamp: From Zero to Hero in Python\" course"
   ]
  },
  {
   "cell_type": "code",
   "execution_count": null,
   "metadata": {},
   "outputs": [],
   "source": [
    "stock_prices = [(\"APPL\", 144.09), (\"GOOGL\", 911.71), (\"MSFT\", 69.0)]\n",
    "print(stock_prices)"
   ]
  },
  {
   "cell_type": "code",
   "execution_count": null,
   "metadata": {},
   "outputs": [],
   "source": [
    "for item in stock_prices:\n",
    "    print(item)"
   ]
  },
  {
   "cell_type": "code",
   "execution_count": null,
   "metadata": {},
   "outputs": [],
   "source": [
    "for ticker, price in stock_prices:\n",
    "    print(\"Ticker:\", ticker, \"Price:\", price)"
   ]
  },
  {
   "cell_type": "code",
   "execution_count": null,
   "metadata": {},
   "outputs": [],
   "source": [
    "work_hours = [(\"Abby\", 100), (\"Billy\", 400), (\"Cassie\", 800), (\"David\", 200), (\"Ella\", 950)]\n",
    "def employee_check(work_hours):\n",
    "    current_max = 0\n",
    "    employee_of_month = \"\"\n",
    "\n",
    "    for employee, hours in work_hours:\n",
    "        if hours > current_max:\n",
    "            current_max = hours\n",
    "            employee_of_month = employee\n",
    "        else:\n",
    "            pass\n",
    "\n",
    "    return (employee_of_month, current_max)\n",
    "name, hours = employee_check(work_hours)\n",
    "print(name)\n",
    "print(hours)\n"
   ]
  }
 ],
 "metadata": {
  "kernelspec": {
   "display_name": ".venv",
   "language": "python",
   "name": "python3"
  },
  "language_info": {
   "codemirror_mode": {
    "name": "ipython",
    "version": 3
   },
   "file_extension": ".py",
   "mimetype": "text/x-python",
   "name": "python",
   "nbconvert_exporter": "python",
   "pygments_lexer": "ipython3",
   "version": "3.12.9"
  }
 },
 "nbformat": 4,
 "nbformat_minor": 2
}
