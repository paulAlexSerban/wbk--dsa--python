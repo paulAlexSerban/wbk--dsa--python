{
 "cells": [
  {
   "cell_type": "markdown",
   "metadata": {},
   "source": [
    "# Array Iteration\n",
    "Iterating through an array (or list) is a fundamental concept where you go through each element of the array. In Python, this is often done using a for loop."
   ]
  },
  {
   "cell_type": "code",
   "execution_count": 2,
   "metadata": {},
   "outputs": [
    {
     "name": "stdout",
     "output_type": "stream",
     "text": [
      "2\n",
      "7\n",
      "11\n",
      "15\n",
      "Hello\n",
      "World\n",
      "!\n"
     ]
    }
   ],
   "source": [
    "nums = [2, 7, 11, 15]\n",
    "for number in nums:\n",
    "    print(number)\n",
    "    \n",
    "strings = [\"Hello\", \"World\", \"!\"]\n",
    "for string in strings:\n",
    "    print(string)"
   ]
  }
 ],
 "metadata": {
  "kernelspec": {
   "display_name": "Python (.venv)",
   "language": "python",
   "name": ".venv"
  },
  "language_info": {
   "codemirror_mode": {
    "name": "ipython",
    "version": 3
   },
   "file_extension": ".py",
   "mimetype": "text/x-python",
   "name": "python",
   "nbconvert_exporter": "python",
   "pygments_lexer": "ipython3",
   "version": "3.12.4"
  }
 },
 "nbformat": 4,
 "nbformat_minor": 2
}
