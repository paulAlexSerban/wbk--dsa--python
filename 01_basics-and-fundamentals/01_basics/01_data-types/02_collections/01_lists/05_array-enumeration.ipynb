{
 "cells": [
  {
   "cell_type": "markdown",
   "metadata": {},
   "source": [
    "# Enumeration: \n",
    "- The `enumerate` function in Python adds a counter to an iterable and returns it as an enumerate object. \n",
    "- This is useful when you need both the value and the index of elements in a list."
   ]
  },
  {
   "cell_type": "code",
   "execution_count": 1,
   "metadata": {},
   "outputs": [],
   "source": [
    "nums = [10, 20, 30]\n",
    "for index, number in enumerate(nums):\n",
    "    print(f\"Index: {index}, Number: {number}\")\n",
    "    \n",
    "strings = [\"Hello\", \"World\", \"!\"]\n",
    "for index, string in enumerate(strings):\n",
    "    print(f\"Index: {index}, String: {string}\")"
   ]
  }
 ],
 "metadata": {
  "kernelspec": {
   "display_name": "Python (.venv)",
   "language": "python",
   "name": ".venv"
  }
 },
 "nbformat": 4,
 "nbformat_minor": 2
}
