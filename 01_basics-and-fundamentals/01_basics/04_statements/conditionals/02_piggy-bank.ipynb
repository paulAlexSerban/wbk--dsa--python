{
 "cells": [
  {
   "cell_type": "code",
   "execution_count": 1,
   "metadata": {},
   "outputs": [
    {
     "name": "stdout",
     "output_type": "stream",
     "text": [
      "Uh-oh! Not enough cash in the piggy bank.\n"
     ]
    }
   ],
   "source": [
    "balance = 10\n",
    "withdraw = 11\n",
    "\n",
    "if balance > withdraw:\n",
    "  balance -= withdraw\n",
    "  print(\"${balance} left in the piggy bank.\")\n",
    "else:\n",
    "  print(\"Uh-oh! Not enough cash in the piggy bank.\")"
   ]
  },
  {
   "cell_type": "code",
   "execution_count": null,
   "metadata": {},
   "outputs": [],
   "source": []
  }
 ],
 "metadata": {
  "kernelspec": {
   "display_name": ".venv",
   "language": "python",
   "name": "python3"
  },
  "language_info": {
   "codemirror_mode": {
    "name": "ipython",
    "version": 3
   },
   "file_extension": ".py",
   "mimetype": "text/x-python",
   "name": "python",
   "nbconvert_exporter": "python",
   "pygments_lexer": "ipython3",
   "version": "3.12.4"
  }
 },
 "nbformat": 4,
 "nbformat_minor": 2
}
