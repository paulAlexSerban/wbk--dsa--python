{
 "cells": [
  {
   "cell_type": "code",
   "execution_count": 1,
   "metadata": {},
   "outputs": [
    {
     "name": "stdout",
     "output_type": "stream",
     "text": [
      "Mars is 227.9 million km away from the Sun\n"
     ]
    }
   ],
   "source": [
    "# Modify this program to print the distance between the Sun and Mars (227.9 million km)\n",
    "planet = \"Mars\"\n",
    "distance_from_sun = 227.9 \n",
    "\n",
    "if planet == \"Mercury\":\n",
    "    distance_from_sun = 57.91\n",
    "elif planet == \"Venus\":\n",
    "    distance_from_sun = 108.2\n",
    "elif planet == \"Earth\":\n",
    "    distance_from_sun = 149.6\n",
    "\n",
    "print(f\"{planet} is {distance_from_sun} million km away from the Sun\")"
   ]
  },
  {
   "cell_type": "code",
   "execution_count": null,
   "metadata": {},
   "outputs": [],
   "source": []
  }
 ],
 "metadata": {
  "kernelspec": {
   "display_name": ".venv",
   "language": "python",
   "name": "python3"
  },
  "language_info": {
   "codemirror_mode": {
    "name": "ipython",
    "version": 3
   },
   "file_extension": ".py",
   "mimetype": "text/x-python",
   "name": "python",
   "nbconvert_exporter": "python",
   "pygments_lexer": "ipython3",
   "version": "3.12.4"
  }
 },
 "nbformat": 4,
 "nbformat_minor": 2
}
