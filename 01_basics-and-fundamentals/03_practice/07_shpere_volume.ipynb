{
 "cells": [
  {
   "cell_type": "markdown",
   "metadata": {},
   "source": [
    "# Sphere Volume given Radius\n",
    "\n",
    "## Problem\n",
    "Given the radius of a sphere, calculate the volume of the sphere."
   ]
  },
  {
   "cell_type": "code",
   "execution_count": 3,
   "metadata": {},
   "outputs": [
    {
     "name": "stdout",
     "output_type": "stream",
     "text": [
      "523.5987755982989\n",
      "4188.790204786391\n",
      "14137.166941154068\n"
     ]
    }
   ],
   "source": [
    "import math\n",
    "\n",
    "def volume_of_sphere(radius):\n",
    "    return (4/3) * math.pi * radius**3\n",
    "\n",
    "print(volume_of_sphere(5))\n",
    "print(volume_of_sphere(10))\n",
    "print(volume_of_sphere(15))"
   ]
  }
 ],
 "metadata": {
  "kernelspec": {
   "display_name": ".venv",
   "language": "python",
   "name": "python3"
  },
  "language_info": {
   "codemirror_mode": {
    "name": "ipython",
    "version": 3
   },
   "file_extension": ".py",
   "mimetype": "text/x-python",
   "name": "python",
   "nbconvert_exporter": "python",
   "pygments_lexer": "ipython3",
   "version": "3.12.9"
  }
 },
 "nbformat": 4,
 "nbformat_minor": 2
}
