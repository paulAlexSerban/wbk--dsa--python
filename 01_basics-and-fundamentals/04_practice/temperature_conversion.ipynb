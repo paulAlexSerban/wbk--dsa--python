{
 "cells": [
  {
   "cell_type": "markdown",
   "metadata": {},
   "source": [
    "# Temperature Conversion"
   ]
  },
  {
   "cell_type": "code",
   "execution_count": null,
   "metadata": {},
   "outputs": [],
   "source": [
    "def convert_temperature(temp, from_unit, to_unit):\n",
    "    \"\"\"This function converts temperature from one unit to another\"\"\"\n",
    "    if from_unit == 'C' and to_unit == 'F':\n",
    "        return temp * 9/5 + 32\n",
    "    elif from_unit == 'F' and to_unit == 'C':\n",
    "        return (temp - 32) * 5/9\n",
    "    else:\n",
    "        return temp"
   ]
  },
  {
   "cell_type": "code",
   "execution_count": null,
   "metadata": {},
   "outputs": [],
   "source": [
    "print(convert_temperature(15, 'C', 'F'))\n",
    "print(convert_temperature(212, 'F', 'C'))\n",
    "print(convert_temperature(100, 'C', 'C'))\n",
    "print(convert_temperature(212, 'F', 'F'))"
   ]
  }
 ],
 "metadata": {
  "kernelspec": {
   "display_name": ".venv",
   "language": "python",
   "name": "python3"
  },
  "language_info": {
   "codemirror_mode": {
    "name": "ipython",
    "version": 3
   },
   "file_extension": ".py",
   "mimetype": "text/x-python",
   "name": "python",
   "nbconvert_exporter": "python",
   "pygments_lexer": "ipython3",
   "version": "3.12.9"
  }
 },
 "nbformat": 4,
 "nbformat_minor": 2
}
