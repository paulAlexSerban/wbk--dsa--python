{
 "cells": [
  {
   "cell_type": "markdown",
   "metadata": {},
   "source": [
    "# Calculate total cost of shopping cart"
   ]
  },
  {
   "cell_type": "code",
   "execution_count": null,
   "metadata": {},
   "outputs": [],
   "source": [
    "def calculate_total_cost(cart):\n",
    "    total = 0\n",
    "    for item in cart:\n",
    "        total += item['price'] * item['quantity']\n",
    "    return total\n",
    "\n",
    "cart = [\n",
    "    {'name': 'apple', 'price': 0.5, 'quantity': 3},\n",
    "    {'name': 'banana', 'price': 0.3, 'quantity': 2},\n",
    "    {'name': 'pear', 'price': 0.7, 'quantity': 1}\n",
    "]\n",
    "\n",
    "print(calculate_total_cost(cart))  # 2.8"
   ]
  }
 ],
 "metadata": {
  "kernelspec": {
   "display_name": ".venv",
   "language": "python",
   "name": "python3"
  },
  "language_info": {
   "codemirror_mode": {
    "name": "ipython",
    "version": 3
   },
   "file_extension": ".py",
   "mimetype": "text/x-python",
   "name": "python",
   "nbconvert_exporter": "python",
   "pygments_lexer": "ipython3",
   "version": "3.12.9"
  }
 },
 "nbformat": 4,
 "nbformat_minor": 2
}
