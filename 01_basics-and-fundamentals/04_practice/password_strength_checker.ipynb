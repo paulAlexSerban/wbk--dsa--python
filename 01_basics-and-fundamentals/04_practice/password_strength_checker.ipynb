{
 "cells": [
  {
   "cell_type": "markdown",
   "metadata": {},
   "source": [
    "# Password Strength Checker"
   ]
  },
  {
   "cell_type": "code",
   "execution_count": null,
   "metadata": {},
   "outputs": [],
   "source": [
    "import re\n",
    "def is_strong_password(password):\n",
    "    \"\"\"This function checks if a password is strong enough.\n",
    "    A password is considered strong enough if it is at least 8 characters long,\n",
    "    contains at least one lowercase letter, one uppercase letter, and one digit.\n",
    "    \"\"\"\n",
    "    if len(password) < 8:\n",
    "        print('Password must be at least 8 characters long.')\n",
    "        return False\n",
    "    if not re.search(r'[a-z]', password):\n",
    "        print('Password must contain at least one lowercase letter.')\n",
    "        return False\n",
    "    if not re.search(r'[A-Z]', password):\n",
    "        print('Password must contain at least one uppercase letter.')\n",
    "        return False\n",
    "    if not re.search(r'[0-9]', password):\n",
    "        print('Password must contain at least one digit.')\n",
    "        return False\n",
    "    print('Password is strong enough.')\n",
    "    return True"
   ]
  },
  {
   "cell_type": "code",
   "execution_count": null,
   "metadata": {},
   "outputs": [],
   "source": [
    "print(is_strong_password('abc123')) # False\n",
    "print(is_strong_password('Abc123')) # True\n",
    "print(is_strong_password('abc123ABC')) # True\n",
    "print(is_strong_password('abcABC')) # False\n",
    "print(is_strong_password('123ABC')) # False\n",
    "print(is_strong_password('123abc')) # False\n",
    "print(is_strong_password('12345678')) # False\n",
    "print(is_strong_password('abcdefgh')) # False\n",
    "print(is_strong_password('R0man1a!')) # True"
   ]
  }
 ],
 "metadata": {
  "kernelspec": {
   "display_name": ".venv",
   "language": "python",
   "name": "python3"
  },
  "language_info": {
   "codemirror_mode": {
    "name": "ipython",
    "version": 3
   },
   "file_extension": ".py",
   "mimetype": "text/x-python",
   "name": "python",
   "nbconvert_exporter": "python",
   "pygments_lexer": "ipython3",
   "version": "3.12.9"
  }
 },
 "nbformat": 4,
 "nbformat_minor": 2
}
