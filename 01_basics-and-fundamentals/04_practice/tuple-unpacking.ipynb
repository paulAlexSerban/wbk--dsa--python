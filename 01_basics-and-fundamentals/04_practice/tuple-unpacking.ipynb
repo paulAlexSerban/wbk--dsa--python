{
 "cells": [
  {
   "cell_type": "code",
   "execution_count": null,
   "id": "0",
   "metadata": {},
   "outputs": [],
   "source": [
    "import os\n",
    "\n",
    "mock_env_vars = {\n",
    "    \"GITHUB_TOKEN\": \"mock_token\",\n",
    "    \"GITHUB_REPOSITORY\": \"mock_user/mock_repo\",\n",
    "    \"PROJECT_ID\": \"123\",\n",
    "    \"GITHUB_RUN_NUMBER\": \"1\",\n",
    "    \"FLOAT\": \"0.7\",\n",
    "    \"MAX_TOKENS\": \"1000\",\n",
    "}\n",
    "\n",
    "\n",
    "def set_env_vars():\n",
    "    for key, value in mock_env_vars.items():\n",
    "        os.environ[key] = value\n",
    "\n",
    "\n",
    "set_env_vars()\n",
    "\n",
    "req_vars = {\n",
    "    \"GITHUB_TOKEN\": (str, \"default_token\"),\n",
    "    \"GITHUB_REPOSITORY\": (str, \"default_repo\"),\n",
    "    \"GITHUB_RUN_ID\": (str, \"default_run_id\"),\n",
    "    \"PROJECT_ID\": (int, 0),\n",
    "    \"GITHUB_RUN_NUMBER\": (int, 0),\n",
    "    \"FLOAT\": (float, 0.5),\n",
    "    \"INTEGER\": (int, 1000),\n",
    "}\n",
    "\n",
    "provider_vars = {}\n",
    "\n",
    "def remove_env_vars():\n",
    "    for key in mock_env_vars.keys():\n",
    "        if key in os.environ:\n",
    "            del os.environ[key]\n",
    "    return True"
   ]
  },
  {
   "cell_type": "code",
   "execution_count": null,
   "id": "1",
   "metadata": {},
   "outputs": [],
   "source": [
    "for var_name, var_type in req_vars.items():\n",
    "    if isinstance(var_type, tuple):\n",
    "        type_class, default = var_type\n",
    "        value = os.getenv(var_name)\n",
    "        if value is None:\n",
    "            provider_vars[var_name] = default\n",
    "        else:\n",
    "            try:\n",
    "                provider_vars[var_name] = type_class(value)\n",
    "            except ValueError as exc:\n",
    "                raise ValueError(\n",
    "                    f\"Environment variable {var_name} must be of type {type_class.__name__}\"\n",
    "                ) from exc\n",
    "    else:\n",
    "        if var_name not in os.environ:\n",
    "            raise ValueError(f\"Environment variable {var_name} is required\")\n",
    "        try:\n",
    "            type_class, _ = var_type\n",
    "            provider_vars[var_name] = type_class(os.environ[var_name])\n",
    "        except ValueError as exc:\n",
    "            raise ValueError(\n",
    "                f\"Environment variable {var_name} must be of type {type_class.__name__}\"\n",
    "            ) from exc\n",
    "        \n",
    "    "
   ]
  },
  {
   "cell_type": "code",
   "execution_count": null,
   "id": "2",
   "metadata": {},
   "outputs": [],
   "source": [
    "print(provider_vars)\n",
    "\n",
    "remove_env_vars()\n"
   ]
  }
 ],
 "metadata": {
  "kernelspec": {
   "display_name": ".venv",
   "language": "python",
   "name": "python3"
  },
  "language_info": {
   "codemirror_mode": {
    "name": "ipython",
    "version": 3
   },
   "file_extension": ".py",
   "mimetype": "text/x-python",
   "name": "python",
   "nbconvert_exporter": "python",
   "pygments_lexer": "ipython3",
   "version": "3.12.9"
  }
 },
 "nbformat": 4,
 "nbformat_minor": 5
}
