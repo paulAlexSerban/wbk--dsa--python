{
 "cells": [
  {
   "cell_type": "code",
   "execution_count": null,
   "id": "0",
   "metadata": {},
   "outputs": [],
   "source": [
    "import os\n",
    "\n",
    "# get all env vars\n",
    "\n",
    "env_vars = os.environ\n",
    "\n",
    "print(\"Environment Variables:\")\n",
    "# for key, value in env_vars.items():\n",
    "#     print(f\"{key}: {value}\")\n",
    "    \n",
    "# print type of each env var\n",
    "\n",
    "print(\"\\nTypes of Environment Variables:\")\n",
    "for key, value in env_vars.items():\n",
    "    print(f\"{key}: {type(value)}\")\n",
    "    if type(value) != str:\n",
    "        print(f\"Warning: {key} is not a string, it is of type {type(value)}\")"
   ]
  }
 ],
 "metadata": {
  "kernelspec": {
   "display_name": ".venv",
   "language": "python",
   "name": "python3"
  },
  "language_info": {
   "codemirror_mode": {
    "name": "ipython",
    "version": 3
   },
   "file_extension": ".py",
   "mimetype": "text/x-python",
   "name": "python",
   "nbconvert_exporter": "python",
   "pygments_lexer": "ipython3",
   "version": "3.12.9"
  }
 },
 "nbformat": 4,
 "nbformat_minor": 5
}
